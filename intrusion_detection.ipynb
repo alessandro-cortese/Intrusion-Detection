{
 "cells": [
  {
   "cell_type": "markdown",
   "metadata": {},
   "source": [
    "# **Intrusion Dection**"
   ]
  },
  {
   "cell_type": "markdown",
   "metadata": {},
   "source": [
    "The purpose of this project is to train machine learning models that can classify streams and be able to recognize different attacks, i.e., models used for multi-class classification tasks.<br>\n",
    "The NSL-KDD dataset (KDDTrainClean.csv) represents a benchmark for Intrusion Detection systems. The dataset contains information about network traffic flows to an IT infrastructure. Each flow is labeled as “normal” or associated with an attack type. The label column of the dataset represents the label."
   ]
  },
  {
   "cell_type": "code",
   "execution_count": 11,
   "metadata": {},
   "outputs": [
    {
     "name": "stderr",
     "output_type": "stream",
     "text": [
      "2025-01-12 18:06:47.318565: I tensorflow/core/util/port.cc:153] oneDNN custom operations are on. You may see slightly different numerical results due to floating-point round-off errors from different computation orders. To turn them off, set the environment variable `TF_ENABLE_ONEDNN_OPTS=0`.\n",
      "2025-01-12 18:06:47.324214: I external/local_xla/xla/tsl/cuda/cudart_stub.cc:32] Could not find cuda drivers on your machine, GPU will not be used.\n",
      "2025-01-12 18:06:47.386255: I external/local_xla/xla/tsl/cuda/cudart_stub.cc:32] Could not find cuda drivers on your machine, GPU will not be used.\n",
      "2025-01-12 18:06:47.449103: E external/local_xla/xla/stream_executor/cuda/cuda_fft.cc:477] Unable to register cuFFT factory: Attempting to register factory for plugin cuFFT when one has already been registered\n",
      "WARNING: All log messages before absl::InitializeLog() is called are written to STDERR\n",
      "E0000 00:00:1736701607.499687   23922 cuda_dnn.cc:8310] Unable to register cuDNN factory: Attempting to register factory for plugin cuDNN when one has already been registered\n",
      "E0000 00:00:1736701607.516071   23922 cuda_blas.cc:1418] Unable to register cuBLAS factory: Attempting to register factory for plugin cuBLAS when one has already been registered\n",
      "2025-01-12 18:06:47.645655: I tensorflow/core/platform/cpu_feature_guard.cc:210] This TensorFlow binary is optimized to use available CPU instructions in performance-critical operations.\n",
      "To enable the following instructions: AVX2 AVX_VNNI FMA, in other operations, rebuild TensorFlow with the appropriate compiler flags.\n"
     ]
    }
   ],
   "source": [
    "import os\n",
    "import logging\n",
    "import math\n",
    "import shutil\n",
    "import random\n",
    "import warnings\n",
    "import numpy as np\n",
    "import pandas as pd\n",
    "import matplotlib.pyplot as plt\n",
    "import seaborn as sns\n",
    "import tensorflow as tf\n",
    "import tensorflow as tf\n",
    "\n",
    "from tensorflow import keras\n",
    "from keras_tuner import RandomSearch\n",
    "from keras import layers, models\n",
    "from keras.utils import plot_model\n",
    "\n",
    "from sklearn.model_selection import train_test_split, RandomizedSearchCV\n",
    "from sklearn.neighbors import KNeighborsClassifier\n",
    "from sklearn.ensemble import RandomForestClassifier\n",
    "from sklearn.linear_model import LogisticRegression\n",
    "from sklearn.metrics import classification_report, accuracy_score, confusion_matrix\n",
    "from sklearn.preprocessing import StandardScaler, OneHotEncoder\n",
    "from sklearn.compose import ColumnTransformer\n",
    "from sklearn.pipeline import Pipeline\n",
    "\n",
    "from scipy.stats import uniform\n",
    "from rich.console import Console\n",
    "from rich.table import Table\n",
    "from rich.text import Text\n",
    "\n",
    " "
   ]
  },
  {
   "cell_type": "code",
   "execution_count": 12,
   "metadata": {},
   "outputs": [],
   "source": [
    "#Ignore the warning\n",
    "warnings.filterwarnings(\"ignore\")\n",
    "\n",
    "#Removes informational logs and warnings of TensorFlow\n",
    "os.environ['TF_CPP_MIN_LOG_LEVEL'] = '3'  \n",
    "tf.get_logger().setLevel(logging.ERROR)\n",
    "\n",
    "os.environ['PYTHONWARNINGS'] = 'ignore'\n",
    "\n",
    "logging.getLogger('tensorflow').setLevel(logging.ERROR)\n",
    "\n",
    "#Clear keras tuner directory\n",
    "shutil.rmtree('tuning/', ignore_errors=True)\n",
    "\n",
    "console = Console()\n",
    "\n",
    "# Funzione per stampare una tabella\n",
    "def print_table(title, columns, rows):\n",
    "    table = Table(title=title)\n",
    "    for col in columns:\n",
    "        table.add_column(col['header'], justify=col.get('justify', 'center'), style=col.get('style', 'bright_white'))\n",
    "    for row in rows:\n",
    "        table.add_row(*row)\n",
    "    console.print(table)\n",
    "\n",
    "# Funzione per stampare una tabella di valutazione del modello\n",
    "def print_evaluation_table(model_name, test_class_report, test_accuracy):\n",
    "    rows = [\n",
    "        [\"Accuracy\", f\"{test_accuracy:.4f}\"],\n",
    "        [\"Precision (wgtd_avg)\", f\"{test_class_report['weighted avg']['precision']:.4f}\"],\n",
    "        [\"Recall (wgtd_avg)\", f\"{test_class_report['weighted avg']['recall']:.4f}\"],\n",
    "        [\"F1-Score (wgtd_avg)\", f\"{test_class_report['weighted avg']['f1-score']:.4f}\"]\n",
    "    ]\n",
    "    columns = [{\"header\": \"Metric\", \"style\": \"bright_cyan\"}, {\"header\": \"Result\", \"style\": \"bright_green\", \"justify\": \"center\"}]\n",
    "    print_table(\"Model Evaluation Results for \" + model_name, columns, rows)\n",
    "\n",
    "# Funzione per stampare una tabella con i migliori iperparametri\n",
    "def print_best_params_table(model_name, best_params):\n",
    "    rows = [[param, str(value)] for param, value in best_params.items()]\n",
    "    columns = [{\"header\": \"Hyperparameter\", \"style\": \"bright_cyan\"}, {\"header\": \"Value\", \"style\": \"bright_magenta\", \"justify\": \"center\"}]\n",
    "    print_table(\"Best Hyperparameters for \" + model_name, columns, rows)"
   ]
  },
  {
   "cell_type": "code",
   "execution_count": null,
   "metadata": {},
   "outputs": [],
   "source": []
  },
  {
   "cell_type": "code",
   "execution_count": null,
   "metadata": {},
   "outputs": [
    {
     "name": "stdout",
     "output_type": "stream",
     "text": [
      "Number of raw of the dataset\n",
      "125973\n"
     ]
    }
   ],
   "source": [
    "file_path = \"./KDDTrainClean.csv\"\n",
    "data = pd.read_csv(file_path)\n",
    "#data.head()\n"
   ]
  }
 ],
 "metadata": {
  "kernelspec": {
   "display_name": "INTRUSION_DETECTION",
   "language": "python",
   "name": "python3"
  },
  "language_info": {
   "codemirror_mode": {
    "name": "ipython",
    "version": 3
   },
   "file_extension": ".py",
   "mimetype": "text/x-python",
   "name": "python",
   "nbconvert_exporter": "python",
   "pygments_lexer": "ipython3",
   "version": "3.10.16"
  }
 },
 "nbformat": 4,
 "nbformat_minor": 2
}
