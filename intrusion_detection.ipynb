{
 "cells": [
  {
   "cell_type": "markdown",
   "metadata": {},
   "source": [
    "# **Intrusion Detection**\n"
   ]
  },
  {
   "cell_type": "markdown",
   "metadata": {},
   "source": [
    "## Introduction.\n",
    "\n",
    "The purpose of this project is to train and evaluate multiple models that can classify flows and recognize different types of attacks, i.e., models used for multiclass classification tasks.\n",
    "\n",
    "The dataset used is the NSL-KDD dataset (KDDTrainClean.csv) which is a benchmark for *Intrusion Detection* systems. The dataset contains information about network flows to an IT infrastructure. Each flow is labeled as “normal” or associated with an attack type where the *label* column represents the label.\n",
    "\n",
    "Translated with DeepL.com (free version)"
   ]
  },
  {
   "cell_type": "code",
   "execution_count": null,
   "metadata": {},
   "outputs": [
    {
     "name": "stderr",
     "output_type": "stream",
     "text": [
      "2025-01-30 09:48:41.940648: I tensorflow/core/util/port.cc:153] oneDNN custom operations are on. You may see slightly different numerical results due to floating-point round-off errors from different computation orders. To turn them off, set the environment variable `TF_ENABLE_ONEDNN_OPTS=0`.\n",
      "2025-01-30 09:48:41.946915: I external/local_xla/xla/tsl/cuda/cudart_stub.cc:32] Could not find cuda drivers on your machine, GPU will not be used.\n",
      "2025-01-30 09:48:42.004160: I external/local_xla/xla/tsl/cuda/cudart_stub.cc:32] Could not find cuda drivers on your machine, GPU will not be used.\n",
      "2025-01-30 09:48:42.059908: E external/local_xla/xla/stream_executor/cuda/cuda_fft.cc:477] Unable to register cuFFT factory: Attempting to register factory for plugin cuFFT when one has already been registered\n",
      "WARNING: All log messages before absl::InitializeLog() is called are written to STDERR\n",
      "E0000 00:00:1738226922.115429   22332 cuda_dnn.cc:8310] Unable to register cuDNN factory: Attempting to register factory for plugin cuDNN when one has already been registered\n",
      "E0000 00:00:1738226922.130351   22332 cuda_blas.cc:1418] Unable to register cuBLAS factory: Attempting to register factory for plugin cuBLAS when one has already been registered\n",
      "2025-01-30 09:48:42.254765: I tensorflow/core/platform/cpu_feature_guard.cc:210] This TensorFlow binary is optimized to use available CPU instructions in performance-critical operations.\n",
      "To enable the following instructions: AVX2 AVX_VNNI FMA, in other operations, rebuild TensorFlow with the appropriate compiler flags.\n"
     ]
    }
   ],
   "source": [
    "# Import\n",
    "\n",
    "import os\n",
    "import logging\n",
    "import warnings\n",
    "import numpy as np\n",
    "import pandas as pd\n",
    "import matplotlib.pyplot as plt\n",
    "import tensorflow as tf\n",
    "import tensorflow as tf\n",
    "import seaborn as sns\n",
    "from keras.utils import to_categorical\n",
    "from tensorflow.keras.callbacks import EarlyStopping\n",
    "from tensorflow.keras.models import Sequential\n",
    "from tensorflow.keras.layers import Dense\n",
    "from sklearn.preprocessing import LabelEncoder\n",
    "from imblearn.over_sampling import SMOTE\n",
    "from sklearn.model_selection import train_test_split\n",
    "from sklearn.preprocessing import OneHotEncoder, LabelEncoder\n",
    "from sklearn.compose import ColumnTransformer\n",
    "from sklearn.model_selection import train_test_split\n",
    "from sklearn.neighbors import KNeighborsClassifier\n",
    "from sklearn.ensemble import RandomForestClassifier\n",
    "from sklearn.model_selection import RandomizedSearchCV\n",
    "from sklearn.metrics import accuracy_score, precision_score, recall_score, f1_score\n",
    "\n",
    "# Ignore warnings\n",
    "warnings.filterwarnings(\"ignore\")\n",
    "os.environ['TF_CPP_MIN_LOG_LEVEL'] = '3' \n",
    "tf.get_logger().setLevel(logging.ERROR)\n",
    "os.environ['PYTHONWARNINGS'] = 'ignore'\n",
    "logging.getLogger('tensorflow').setLevel(logging.ERROR)"
   ]
  },
  {
   "cell_type": "code",
   "execution_count": 22,
   "metadata": {},
   "outputs": [
    {
     "name": "stdout",
     "output_type": "stream",
     "text": [
      "Number of samples in the dataset :125973\n",
      "<class 'pandas.core.frame.DataFrame'>\n",
      "RangeIndex: 125973 entries, 0 to 125972\n",
      "Data columns (total 42 columns):\n",
      " #   Column                       Non-Null Count   Dtype  \n",
      "---  ------                       --------------   -----  \n",
      " 0   duration                     125973 non-null  int64  \n",
      " 1   protocol_type                125973 non-null  object \n",
      " 2   service                      125973 non-null  object \n",
      " 3   flag                         125973 non-null  object \n",
      " 4   src_bytes                    125973 non-null  int64  \n",
      " 5   dst_bytes                    125973 non-null  int64  \n",
      " 6   land                         125973 non-null  int64  \n",
      " 7   wrong_fragment               125973 non-null  int64  \n",
      " 8   urgent                       125973 non-null  int64  \n",
      " 9   hot                          125973 non-null  int64  \n",
      " 10  num_failed_logins            125973 non-null  int64  \n",
      " 11  logged_in                    125973 non-null  int64  \n",
      " 12  num_compromised              125973 non-null  int64  \n",
      " 13  root_shell                   125973 non-null  int64  \n",
      " 14  su_attempted                 125973 non-null  int64  \n",
      " 15  num_root                     125973 non-null  int64  \n",
      " 16  num_file_creations           125973 non-null  int64  \n",
      " 17  num_shells                   125973 non-null  int64  \n",
      " 18  num_access_files             125973 non-null  int64  \n",
      " 19  num_outbound_cmds            125973 non-null  int64  \n",
      " 20  is_host_login                125973 non-null  int64  \n",
      " 21  is_guest_login               125973 non-null  int64  \n",
      " 22  count                        125973 non-null  int64  \n",
      " 23  srv_count                    125973 non-null  int64  \n",
      " 24  serror_rate                  125973 non-null  float64\n",
      " 25  srv_serror_rate              125973 non-null  float64\n",
      " 26  rerror_rate                  125973 non-null  float64\n",
      " 27  srv_rerror_rate              125973 non-null  float64\n",
      " 28  same_srv_rate                125973 non-null  float64\n",
      " 29  diff_srv_rate                125973 non-null  float64\n",
      " 30  srv_diff_host_rate           125973 non-null  float64\n",
      " 31  dst_host_count               125973 non-null  int64  \n",
      " 32  dst_host_srv_count           125973 non-null  int64  \n",
      " 33  dst_host_same_srv_rate       125973 non-null  float64\n",
      " 34  dst_host_diff_srv_rate       125973 non-null  float64\n",
      " 35  dst_host_same_src_port_rate  125973 non-null  float64\n",
      " 36  dst_host_srv_diff_host_rate  125973 non-null  float64\n",
      " 37  dst_host_serror_rate         125973 non-null  float64\n",
      " 38  dst_host_srv_serror_rate     125973 non-null  float64\n",
      " 39  dst_host_rerror_rate         125973 non-null  float64\n",
      " 40  dst_host_srv_rerror_rate     125973 non-null  float64\n",
      " 41  label                        125973 non-null  object \n",
      "dtypes: float64(15), int64(23), object(4)\n",
      "memory usage: 40.4+ MB\n",
      "None\n"
     ]
    }
   ],
   "source": [
    "# Load dataset\n",
    "dataset_path = \"./KDDTrainClean.csv\"\n",
    "dataset = pd.read_csv(dataset_path)\n",
    "\n",
    "# To verify that the daset is loaded correctly, I count the rows in the dataset itself.\n",
    "print(f\"Number of samples in the dataset :{len(dataset)}\")\n",
    "\n",
    "# Get information about the dataset in use.\n",
    "print(dataset.info())"
   ]
  },
  {
   "cell_type": "markdown",
   "metadata": {},
   "source": [
    "## Data Analysis & Data Preprocessing.\n",
    "\n",
    "First, it was decided to do a preliminary analysis of the data within the dataset, analyzing the number of classes and their distribution."
   ]
  },
  {
   "cell_type": "code",
   "execution_count": 23,
   "metadata": {},
   "outputs": [
    {
     "name": "stdout",
     "output_type": "stream",
     "text": [
      "Class distribution:\n",
      "label\n",
      "normal             67343\n",
      "neptune            41214\n",
      "satan               3633\n",
      "ipsweep             3599\n",
      "portsweep           2931\n",
      "smurf               2646\n",
      "nmap                1493\n",
      "back                 956\n",
      "teardrop             892\n",
      "warezclient          890\n",
      "pod                  201\n",
      "guess_passwd          53\n",
      "buffer_overflow       30\n",
      "warezmaster           20\n",
      "land                  18\n",
      "imap                  11\n",
      "rootkit               10\n",
      "loadmodule             9\n",
      "ftp_write              8\n",
      "multihop               7\n",
      "phf                    4\n",
      "perl                   3\n",
      "spy                    2\n",
      "Name: count, dtype: int64\n"
     ]
    }
   ],
   "source": [
    "# Preliminary Analysis\n",
    "target_column = \"label\"\n",
    "features = dataset.columns.difference([target_column])\n",
    "\n",
    "class_counts = dataset[target_column].value_counts()\n",
    "\n",
    "# Let's visualize the distribution of classes\n",
    "print(\"Class distribution:\")\n",
    "print(dataset[target_column].value_counts())"
   ]
  },
  {
   "cell_type": "markdown",
   "metadata": {},
   "source": [
    "A bar graph is used to represent the distribution."
   ]
  },
  {
   "cell_type": "code",
   "execution_count": 24,
   "metadata": {},
   "outputs": [
    {
     "data": {
      "image/png": "[encoded data removed]",
      "text/plain": [
       "<Figure size 1000x600 with 1 Axes>"
      ]
     },
     "metadata": {},
     "output_type": "display_data"
    }
   ],
   "source": [
    "class_counts.plot(kind='bar', figsize=(10, 6), color='skyblue')\n",
    "plt.title('Distribution of Classes in the Dataset')\n",
    "plt.xlabel('Classes')\n",
    "plt.ylabel('Number of Occurrences')\n",
    "plt.xticks(rotation=45)\n",
    "plt.grid(axis='y', linestyle='--', alpha=0.7)\n",
    "plt.show()"
   ]
  },
  {
   "cell_type": "markdown",
   "metadata": {},
   "source": [
    "It can be seen that the dataset is unbalanced for certain types of classes and this could lead to overfitting behavior for those particular most common classes which would result in the models used for the task not being able to generalize better and not being able to recognize the rarer cases that are not as common within the dataset.\n",
    "\n",
    "In fact, the classes '*guess_passwd*', '*buffer_overflow*', '*warezmaster*', '*land*', '*imap*', '*rootkit*', '*loadmodule*', '*ftp_write*', '*multihop*', '*phf*', '*perl*', and '*spy*' repeatedly have less than 100 tuples within the dataset, some even less than 10. The models may not be able to succeed in classifying the instances correctly.\n",
    "\n",
    "To try to solve this problem, one could think of introducing synthetic data, then using the **dataset agumentation** technique. This would solve the problem of rebalancing the classes so that the less common classes are in sufficient numbers so that the models can learn efficiently, adding synthetic data would lead to improve the ability of the models to generalize by reducing the overfitting on the dominant classes and it would reduce the imbalance so that better performance is achieved.\n",
    "\n",
    "There are, however, considerations to be made about the addition of synthetic data:\n",
    "- the synthetic data that are added must be realistic and consistent with the problem domain, in case they are not it could adversely affect the performance of the models;\n",
    "- one could fall into cases of overfitting because creating synthetic data for rare classes could cause the models to memorize artificial patterns rather than learning general features;\n",
    "- if the synthetic data being generated were used in both training and testing phases it could provide an optimistic picture of the performance of the models being built.\n",
    "\n",
    "To try to use the idea of using syntactic data to obtain the benefits of generalization but trying to limit its use, a targeted approach is used. It uses **Smote (Synthetic Minority Over-sampling Technique)** in such a way as to generate synthetic examples by interpolating real class data while limiting its use to only rare classes, i.e., only the precendently mentioned classes. "
   ]
  },
  {
   "cell_type": "code",
   "execution_count": 25,
   "metadata": {},
   "outputs": [
    {
     "name": "stdout",
     "output_type": "stream",
     "text": [
      "Classes below the threshold: Index(['guess_passwd', 'buffer_overflow', 'warezmaster', 'land', 'imap',\n",
      "       'rootkit', 'loadmodule', 'ftp_write', 'multihop', 'phf', 'perl', 'spy'],\n",
      "      dtype='object', name='label')\n"
     ]
    }
   ],
   "source": [
    "# I count the occurrences for individual classes\n",
    "class_counts = dataset[target_column].value_counts()\n",
    "\n",
    "# I define a threshold value so that the rarest classes can be identified\n",
    "threshold = 100 \n",
    "\n",
    "# I find classes below the threshold\n",
    "underrepresented_classes = class_counts[class_counts < threshold].index\n",
    "print(\"Classes below the threshold:\", underrepresented_classes)"
   ]
  },
  {
   "cell_type": "markdown",
   "metadata": {},
   "source": [
    "Before applying **SMOTE** we need to transform those features that are not numerical data. "
   ]
  },
  {
   "cell_type": "code",
   "execution_count": null,
   "metadata": {},
   "outputs": [
    {
     "name": "stdout",
     "output_type": "stream",
     "text": [
      "cat__protocol_type_icmp             float64\n",
      "cat__protocol_type_tcp              float64\n",
      "cat__protocol_type_udp              float64\n",
      "cat__service_IRC                    float64\n",
      "cat__service_X11                    float64\n",
      "                                     ...   \n",
      "num__dst_host_srv_diff_host_rate    float64\n",
      "num__dst_host_serror_rate           float64\n",
      "num__dst_host_srv_serror_rate       float64\n",
      "num__dst_host_rerror_rate           float64\n",
      "num__dst_host_srv_rerror_rate       float64\n",
      "Length: 122, dtype: object\n"
     ]
    }
   ],
   "source": [
    "# I divide the dataset into features and targets\n",
    "X = dataset.drop(columns=[target_column])\n",
    "y = dataset[target_column]\n",
    "\n",
    "number_of_classes = dataset[target_column].nunique()\n",
    "\n",
    "# I identify categorical columns.\n",
    "categorical_columns = X.select_dtypes(include=['object']).columns\n",
    "numeric_columns = X.select_dtypes(exclude=['object']).columns\n",
    "\n",
    "# I configure the encoder for categorical features\n",
    "features_preprocessor = ColumnTransformer(\n",
    "    transformers=[\n",
    "        ('cat', OneHotEncoder(), categorical_columns),\n",
    "        ('num', 'passthrough', numeric_columns)\n",
    "    ]\n",
    ")\n",
    "\n",
    "# I transform columns\n",
    "X_encoded = features_preprocessor.fit_transform(X)\n",
    "\n",
    "X_encoded = pd.DataFrame(\n",
    "    X_encoded.toarray() if hasattr(X_encoded, 'toarray') else X_encoded,\n",
    "    columns=features_preprocessor.get_feature_names_out()\n",
    ").astype(float)\n",
    "\n",
    "\n",
    "print(X_encoded.dtypes)\n",
    "X_encoded = X_encoded.astype(float)\n"
   ]
  },
  {
   "cell_type": "code",
   "execution_count": 7,
   "metadata": {},
   "outputs": [],
   "source": [
    "# I do the encoding of the labels\n",
    "label_encoder = LabelEncoder()\n",
    "y_encoded = label_encoder.fit_transform(y)\n",
    "y_one_hot = to_categorical(y_encoded)"
   ]
  },
  {
   "cell_type": "markdown",
   "metadata": {},
   "source": [
    "However, there is a problem, **SMOTE** cannot be applied for classes with too few instances, especially for the class with only one training example. It was decided to apply **SMOTE** only for those classes with at least 2 training instances. Another possible method that was thought to apply is to duplicate the only instance present, but this would not bring any particular benefits because then synthetic data would be generated on copies of the one example."
   ]
  },
  {
   "cell_type": "code",
   "execution_count": 8,
   "metadata": {},
   "outputs": [],
   "source": [
    "# I divide into training set and test set\n",
    "X_train, X_test, y_train, y_test = train_test_split(X_encoded, y_one_hot, test_size=0.3, random_state=42)\n",
    "\n",
    "# I have to encode the labels of the least represented classes, but in this case I have to act at the numerical level after encoding\n",
    "threshold = 2\n",
    "class_counts = pd.Series(y_encoded).value_counts()\n",
    "underrepresented_classes = class_counts[class_counts < threshold].index\n",
    "\n",
    "# This is only done for classes that have too few samples to then apply SMOTE correctly.\n",
    "for class_label in underrepresented_classes:\n",
    "    \n",
    "    class_indices = np.where(y_train == class_label)[0]\n",
    "    \n",
    "    # I calculate the number of duplications needed.\n",
    "    # Need at least 2 samples per class to apply SMOTE, is the minimum number.\n",
    "    num_duplicates = max(0, 2 - len(class_indices))  \n",
    "    \n",
    "    # Duplicate samples\n",
    "    duplicated_samples = X_train.iloc[class_indices].sample(num_duplicates, replace=True, random_state=42)\n",
    "    X_train = pd.concat([X_train, duplicated_samples])\n",
    "    y_train = pd.concat([y_train, pd.Series(np.repeat(class_label, num_duplicates).tolist(), dtype=int)], ignore_index=True)\n",
    "\n",
    "\n",
    "# I create a dictionary with the desired number of instances for each rare class within the dataset.\n",
    "desired_instances = {class_label: 100 for class_label in underrepresented_classes} "
   ]
  },
  {
   "cell_type": "code",
   "execution_count": 9,
   "metadata": {},
   "outputs": [],
   "source": [
    "# I apply SMOTE\n",
    "smote = SMOTE(sampling_strategy=desired_instances, random_state=42, k_neighbors=1)\n",
    "X_resampled, y_resampled = smote.fit_resample(X_train, y_train)\n",
    "\n",
    "X_resampled = X_resampled.astype(float)"
   ]
  },
  {
   "cell_type": "markdown",
   "metadata": {},
   "source": [
    "As a last thing, you divide the training set into training set and validation set after applying **SMOTE**."
   ]
  },
  {
   "cell_type": "code",
   "execution_count": null,
   "metadata": {},
   "outputs": [
    {
     "name": "stdout",
     "output_type": "stream",
     "text": [
      "Taglia del Training Set:      61726\n",
      "Taglia del Validation Set:    26455\n",
      "Taglia del Testing Set:       37792\n"
     ]
    }
   ],
   "source": [
    "# I divide the training set into training set and validation set\n",
    "X_training, X_validation, y_training, y_validation = train_test_split(X_resampled, y_resampled, test_size=0.3, random_state=42)\n",
    "\n",
    "print(\"Taglia del Training Set:     \", len(X_training))\n",
    "print(\"Taglia del Validation Set:   \", len(X_validation))\n",
    "print(\"Taglia del Testing Set:      \", len(X_test))"
   ]
  },
  {
   "cell_type": "markdown",
   "metadata": {},
   "source": [
    "## Definition of Metrics Used\n",
    "\n",
    "The metrics used to evaluate the performance of the models used are:\n",
    "- **Accuracy**;\n",
    "- **Precision**;\n",
    "- **Recall**;\n",
    "- **F1-Score**.\n",
    "\n",
    "A confusion matrix can also be added."
   ]
  },
  {
   "cell_type": "code",
   "execution_count": 11,
   "metadata": {},
   "outputs": [],
   "source": [
    "# Defining a function to evaluate the model evaluation metrics used for the task of interest.\n",
    "def evaluate_model(y_true, y_pred):\n",
    "    metrics = {}\n",
    "\n",
    "    # Accuracy\n",
    "    metrics['Accuracy'] = accuracy_score(y_true, y_pred)\n",
    "\n",
    "    # Precision\n",
    "    metrics['Precision'] = precision_score(y_true, y_pred, average='weighted')\n",
    "\n",
    "    # Recall\n",
    "    metrics['Recall'] = recall_score(y_true, y_pred, average='weighted')\n",
    "\n",
    "    # F1-Score\n",
    "    metrics['F1-Score'] = f1_score(y_true, y_pred, average='weighted')\n",
    "\n",
    "    return metrics\n",
    "\n",
    "# Note: to get more accurate assessments you can use the same metrics but “by class,” it is also useful to use a cunfuzion matrix. "
   ]
  },
  {
   "cell_type": "markdown",
   "metadata": {},
   "source": [
    "## Implementation of Models.\n",
    "\n",
    "At this point it was decided to implement the models, train them, and evaluate their performance.\n",
    "In order to compare the values of the metrics, a dictionary is used to maintain the performance of the various models used."
   ]
  },
  {
   "cell_type": "code",
   "execution_count": 12,
   "metadata": {},
   "outputs": [],
   "source": [
    "models_metrics_dataset_agumentation = {}"
   ]
  },
  {
   "cell_type": "markdown",
   "metadata": {},
   "source": [
    "### Random Forest\n",
    "\n",
    "A first model decided to use is the Random Forest; RandomizedSearchCV is used for tuning the hyperparameters."
   ]
  },
  {
   "cell_type": "code",
   "execution_count": null,
   "metadata": {},
   "outputs": [
    {
     "name": "stdout",
     "output_type": "stream",
     "text": [
      "Fitting 5 folds for each of 20 candidates, totalling 100 fits\n",
      "Best hyperparameters: {'n_estimators': 250, 'min_samples_split': 12, 'min_samples_leaf': 1, 'max_features': 'log2', 'max_depth': None, 'criterion': 'entropy', 'class_weight': 'balanced', 'bootstrap': False}\n"
     ]
    }
   ],
   "source": [
    "# Random Forest model initialization.\n",
    "random_forest_model = RandomForestClassifier(random_state=42)\n",
    "\n",
    "param_dist = {\n",
    "    'n_estimators': [50, 100, 150, 200, 250, 300, 350, 400, 450, 500],                              # Number of trees in the window\n",
    "    'max_depth': [10, 15, 20, 25, 30, 35, None],                                                    # Maximum tree depth\n",
    "    'min_samples_split': [2, 3, 4, 5, 6, 7, 8, 9, 10, 11, 12, 13, 14, 15, 16, 17, 18, 19, 20],      # Minimum number of samples to split a node\n",
    "    'min_samples_leaf': [1, 2, 3, 4, 5, 6, 7, 8, 9, 10],                                            # Minimum number of samples that a leaf node must contain\n",
    "    'max_features': ['auto', 'sqrt', 'log2'],                                                       # Number of features to be considered for node division\n",
    "    'bootstrap': [True, False],                                                                     # Whether or not to use bootstrap\n",
    "    'criterion': ['gini', 'entropy'],                                                               # Division criterion\n",
    "    'class_weight': ['balanced', None]                                                              # Class weights\n",
    "}\n",
    "\n",
    "random_search = RandomizedSearchCV(\n",
    "    estimator=random_forest_model,\n",
    "    param_distributions=param_dist,\n",
    "    n_iter=20,\n",
    "    scoring='accuracy',\n",
    "    cv=5,\n",
    "    verbose=1,\n",
    "    n_jobs=-1\n",
    ")\n",
    "\n",
    "random_search.fit(X_resampled, y_resampled)\n",
    "best_params = random_search.best_params_\n",
    "print(\"Best hyperparameters:\", random_search.best_params_)"
   ]
  },
  {
   "cell_type": "code",
   "execution_count": 18,
   "metadata": {},
   "outputs": [],
   "source": [
    "# Model training with all training data\n",
    "final_random_forest_model = RandomForestClassifier(**best_params, random_state=42)\n",
    "final_random_forest_model.fit(X_training, y_training)\n",
    "\n",
    "y_pred_rf = final_random_forest_model.predict(X_validation)"
   ]
  },
  {
   "cell_type": "code",
   "execution_count": 19,
   "metadata": {},
   "outputs": [],
   "source": [
    "# I evaluate the performance of the model on the validation set\n",
    "\n",
    "metrics_rf = evaluate_model(y_validation, y_pred_rf)\n",
    "models_metrics_dataset_agumentation['Random Forest'] = metrics_rf"
   ]
  },
  {
   "cell_type": "markdown",
   "metadata": {},
   "source": [
    "Once the model has been evaluated, the results obtained are shown."
   ]
  },
  {
   "cell_type": "code",
   "execution_count": 20,
   "metadata": {},
   "outputs": [
    {
     "name": "stdout",
     "output_type": "stream",
     "text": [
      "Accuracy Random Forest:              0.996938196938197\n",
      "Precision Random Forest:             0.9985243908322246\n",
      "Recall Random Forest:                0.996938196938197\n",
      "F1-Score Random Forest:              0.9976790523141003\n"
     ]
    }
   ],
   "source": [
    "print(\"Accuracy Random Forest:              \" + str(models_metrics_dataset_agumentation['Random Forest']['Accuracy']))\n",
    "print(\"Precision Random Forest:             \" + str(models_metrics_dataset_agumentation['Random Forest']['Precision']))\n",
    "print(\"Recall Random Forest:                \" + str(models_metrics_dataset_agumentation['Random Forest']['Recall']))\n",
    "print(\"F1-Score Random Forest:              \" + str(models_metrics_dataset_agumentation['Random Forest']['F1-Score']))"
   ]
  },
  {
   "cell_type": "markdown",
   "metadata": {},
   "source": [
    "**K-Nearest Neighbors (KNN)**\n",
    "\n",
    "As the second model, KNN was chosen.<br>\n",
    "Similarly to the first model, RandomizedSearchCV was used to obtain the best hyperparameters."
   ]
  },
  {
   "cell_type": "code",
   "execution_count": 13,
   "metadata": {},
   "outputs": [
    {
     "name": "stdout",
     "output_type": "stream",
     "text": [
      "Best hyperparameters: {'weights': 'distance', 'n_neighbors': np.int64(2), 'metric': 'manhattan', 'algorithm': 'auto'}\n"
     ]
    }
   ],
   "source": [
    "model_name = \"KNN\"\n",
    "\n",
    "param_dist = {\n",
    "    'n_neighbors': np.arange(1, 31),                                                # Number of neighbors to use\n",
    "    'weights': ['uniform', 'distance'],                                             # Weight function used for prediction\n",
    "    'metric': ['euclidean', 'manhattan', 'chebyshev'],                              # Distance Metric\n",
    "    'algorithm': ['auto', 'ball_tree', 'kd_tree', 'brute'],                         # Algorithm used to find neighbors\n",
    "}\n",
    "\n",
    "knn_model = KNeighborsClassifier()\n",
    "\n",
    "# Configuring RandomizedSearchCV with 5-fold cross-validation\n",
    "random_search = RandomizedSearchCV(\n",
    "    estimator=knn_model,\n",
    "    param_distributions=param_dist,\n",
    "    n_iter=30,                                                                      # Number of parameter configurations sampled\n",
    "    cv=5,                                                                           # 5-fold cross-validation\n",
    "    scoring='accuracy',\n",
    "    n_jobs=-1,\n",
    "    random_state=42\n",
    ")\n",
    "\n",
    "\n",
    "random_search.fit(X_resampled, y_resampled)\n",
    "best_params = random_search.best_params_\n",
    "print(\"Best hyperparameters:\", random_search.best_params_)"
   ]
  },
  {
   "cell_type": "code",
   "execution_count": null,
   "metadata": {},
   "outputs": [],
   "source": [
    "# Training the model with all the training data\n",
    "final_knn_model = KNeighborsClassifier(**best_params)\n",
    "final_knn_model.fit(X_training, y_training)\n",
    "\n",
    "y_pred_knn = final_knn_model.predict(X_validation)"
   ]
  },
  {
   "cell_type": "code",
   "execution_count": 15,
   "metadata": {},
   "outputs": [],
   "source": [
    "# I evaluate the model performance on the validation set\n",
    "\n",
    "metrics_knn = evaluate_model(y_validation, y_pred_knn)\n",
    "models_metrics_dataset_agumentation['KNN'] = metrics_knn"
   ]
  },
  {
   "cell_type": "markdown",
   "metadata": {},
   "source": [
    "Once the model has been evaluated, the results obtained are shown."
   ]
  },
  {
   "cell_type": "code",
   "execution_count": 16,
   "metadata": {},
   "outputs": [
    {
     "name": "stdout",
     "output_type": "stream",
     "text": [
      "Accuracy KNN:              0.9885465885465885\n",
      "Precision KNN:             0.9885353116387315\n",
      "Recall KNN:                0.9885465885465885\n",
      "F1-Score KNN:              0.9884482570059129\n"
     ]
    }
   ],
   "source": [
    "print(\"Accuracy KNN:              \" + str(models_metrics_dataset_agumentation['KNN']['Accuracy']))\n",
    "print(\"Precision KNN:             \" + str(models_metrics_dataset_agumentation['KNN']['Precision']))\n",
    "print(\"Recall KNN:                \" + str(models_metrics_dataset_agumentation['KNN']['Recall']))\n",
    "print(\"F1-Score KNN:              \" + str(models_metrics_dataset_agumentation['KNN']['F1-Score']))"
   ]
  },
  {
   "cell_type": "markdown",
   "metadata": {},
   "source": [
    "### Deep Neural Network\n",
    "\n",
    "A final model that was decided to use is a natural network."
   ]
  },
  {
   "cell_type": "code",
   "execution_count": null,
   "metadata": {},
   "outputs": [
    {
     "name": "stderr",
     "output_type": "stream",
     "text": [
      "W0000 00:00:1738229182.186951   22332 gpu_device.cc:2344] Cannot dlopen some GPU libraries. Please make sure the missing libraries mentioned above are installed properly if you would like to use GPU. Follow the guide at https://www.tensorflow.org/install/gpu for how to download and setup the required libraries for your platform.\n",
      "Skipping registering GPU devices...\n"
     ]
    },
    {
     "name": "stdout",
     "output_type": "stream",
     "text": [
      "Epoch 1/300\n",
      "\u001b[1m1929/1929\u001b[0m \u001b[32m━━━━━━━━━━━━━━━━━━━━\u001b[0m\u001b[37m\u001b[0m \u001b[1m4s\u001b[0m 2ms/step - accuracy: 0.5345 - loss: 2.1686 - val_accuracy: 0.5405 - val_loss: 1.2442\n",
      "Epoch 2/300\n",
      "\u001b[1m1929/1929\u001b[0m \u001b[32m━━━━━━━━━━━━━━━━━━━━\u001b[0m\u001b[37m\u001b[0m \u001b[1m3s\u001b[0m 2ms/step - accuracy: 0.7454 - loss: 0.9253 - val_accuracy: 0.8564 - val_loss: 0.6705\n",
      "Epoch 3/300\n",
      "\u001b[1m1929/1929\u001b[0m \u001b[32m━━━━━━━━━━━━━━━━━━━━\u001b[0m\u001b[37m\u001b[0m \u001b[1m3s\u001b[0m 1ms/step - accuracy: 0.8558 - loss: 0.6571 - val_accuracy: 0.8864 - val_loss: 0.5135\n",
      "Epoch 4/300\n",
      "\u001b[1m1929/1929\u001b[0m \u001b[32m━━━━━━━━━━━━━━━━━━━━\u001b[0m\u001b[37m\u001b[0m \u001b[1m4s\u001b[0m 2ms/step - accuracy: 0.8836 - loss: 0.4974 - val_accuracy: 0.8846 - val_loss: 0.4649\n",
      "Epoch 5/300\n",
      "\u001b[1m1929/1929\u001b[0m \u001b[32m━━━━━━━━━━━━━━━━━━━━\u001b[0m\u001b[37m\u001b[0m \u001b[1m4s\u001b[0m 2ms/step - accuracy: 0.8844 - loss: 0.4538 - val_accuracy: 0.9033 - val_loss: 0.4157\n",
      "Epoch 6/300\n",
      "\u001b[1m1929/1929\u001b[0m \u001b[32m━━━━━━━━━━━━━━━━━━━━\u001b[0m\u001b[37m\u001b[0m \u001b[1m3s\u001b[0m 2ms/step - accuracy: 0.8888 - loss: 0.4174 - val_accuracy: 0.9041 - val_loss: 0.3875\n",
      "Epoch 7/300\n",
      "\u001b[1m1929/1929\u001b[0m \u001b[32m━━━━━━━━━━━━━━━━━━━━\u001b[0m\u001b[37m\u001b[0m \u001b[1m3s\u001b[0m 2ms/step - accuracy: 0.8970 - loss: 0.4149 - val_accuracy: 0.8893 - val_loss: 0.4219\n",
      "Epoch 8/300\n",
      "\u001b[1m1929/1929\u001b[0m \u001b[32m━━━━━━━━━━━━━━━━━━━━\u001b[0m\u001b[37m\u001b[0m \u001b[1m4s\u001b[0m 2ms/step - accuracy: 0.8971 - loss: 0.4139 - val_accuracy: 0.9049 - val_loss: 0.3966\n",
      "Epoch 9/300\n",
      "\u001b[1m1929/1929\u001b[0m \u001b[32m━━━━━━━━━━━━━━━━━━━━\u001b[0m\u001b[37m\u001b[0m \u001b[1m3s\u001b[0m 2ms/step - accuracy: 0.9039 - loss: 0.3995 - val_accuracy: 0.9050 - val_loss: 0.3876\n",
      "Epoch 10/300\n",
      "\u001b[1m1929/1929\u001b[0m \u001b[32m━━━━━━━━━━━━━━━━━━━━\u001b[0m\u001b[37m\u001b[0m \u001b[1m3s\u001b[0m 2ms/step - accuracy: 0.9049 - loss: 0.3873 - val_accuracy: 0.9241 - val_loss: 0.3416\n",
      "Epoch 11/300\n",
      "\u001b[1m1929/1929\u001b[0m \u001b[32m━━━━━━━━━━━━━━━━━━━━\u001b[0m\u001b[37m\u001b[0m \u001b[1m3s\u001b[0m 2ms/step - accuracy: 0.9250 - loss: 0.3439 - val_accuracy: 0.9168 - val_loss: 0.3479\n",
      "Epoch 12/300\n",
      "\u001b[1m1929/1929\u001b[0m \u001b[32m━━━━━━━━━━━━━━━━━━━━\u001b[0m\u001b[37m\u001b[0m \u001b[1m3s\u001b[0m 2ms/step - accuracy: 0.9171 - loss: 0.3526 - val_accuracy: 0.9243 - val_loss: 0.3509\n",
      "Epoch 13/300\n",
      "\u001b[1m1929/1929\u001b[0m \u001b[32m━━━━━━━━━━━━━━━━━━━━\u001b[0m\u001b[37m\u001b[0m \u001b[1m4s\u001b[0m 2ms/step - accuracy: 0.9193 - loss: 0.3511 - val_accuracy: 0.9266 - val_loss: 0.3356\n",
      "Epoch 14/300\n",
      "\u001b[1m1929/1929\u001b[0m \u001b[32m━━━━━━━━━━━━━━━━━━━━\u001b[0m\u001b[37m\u001b[0m \u001b[1m4s\u001b[0m 2ms/step - accuracy: 0.9269 - loss: 0.3332 - val_accuracy: 0.9411 - val_loss: 0.2795\n",
      "Epoch 15/300\n",
      "\u001b[1m1929/1929\u001b[0m \u001b[32m━━━━━━━━━━━━━━━━━━━━\u001b[0m\u001b[37m\u001b[0m \u001b[1m3s\u001b[0m 2ms/step - accuracy: 0.9421 - loss: 0.2739 - val_accuracy: 0.9437 - val_loss: 0.2532\n",
      "Epoch 16/300\n",
      "\u001b[1m1929/1929\u001b[0m \u001b[32m━━━━━━━━━━━━━━━━━━━━\u001b[0m\u001b[37m\u001b[0m \u001b[1m3s\u001b[0m 2ms/step - accuracy: 0.9501 - loss: 0.2282 - val_accuracy: 0.9518 - val_loss: 0.2084\n",
      "Epoch 17/300\n",
      "\u001b[1m1929/1929\u001b[0m \u001b[32m━━━━━━━━━━━━━━━━━━━━\u001b[0m\u001b[37m\u001b[0m \u001b[1m4s\u001b[0m 2ms/step - accuracy: 0.9492 - loss: 0.2175 - val_accuracy: 0.9535 - val_loss: 0.1977\n",
      "Epoch 18/300\n",
      "\u001b[1m1929/1929\u001b[0m \u001b[32m━━━━━━━━━━━━━━━━━━━━\u001b[0m\u001b[37m\u001b[0m \u001b[1m4s\u001b[0m 2ms/step - accuracy: 0.9499 - loss: 0.2216 - val_accuracy: 0.9441 - val_loss: 0.2459\n",
      "Epoch 19/300\n",
      "\u001b[1m1929/1929\u001b[0m \u001b[32m━━━━━━━━━━━━━━━━━━━━\u001b[0m\u001b[37m\u001b[0m \u001b[1m3s\u001b[0m 2ms/step - accuracy: 0.9444 - loss: 0.2432 - val_accuracy: 0.9455 - val_loss: 0.2293\n",
      "Epoch 20/300\n",
      "\u001b[1m1929/1929\u001b[0m \u001b[32m━━━━━━━━━━━━━━━━━━━━\u001b[0m\u001b[37m\u001b[0m \u001b[1m3s\u001b[0m 2ms/step - accuracy: 0.9442 - loss: 0.2401 - val_accuracy: 0.9291 - val_loss: 0.3911\n",
      "Epoch 21/300\n",
      "\u001b[1m1929/1929\u001b[0m \u001b[32m━━━━━━━━━━━━━━━━━━━━\u001b[0m\u001b[37m\u001b[0m \u001b[1m3s\u001b[0m 2ms/step - accuracy: 0.9297 - loss: 0.3474 - val_accuracy: 0.9362 - val_loss: 0.2307\n",
      "Epoch 22/300\n",
      "\u001b[1m1929/1929\u001b[0m \u001b[32m━━━━━━━━━━━━━━━━━━━━\u001b[0m\u001b[37m\u001b[0m \u001b[1m3s\u001b[0m 2ms/step - accuracy: 0.9360 - loss: 0.2280 - val_accuracy: 0.9354 - val_loss: 0.2260\n",
      "Epoch 23/300\n",
      "\u001b[1m1929/1929\u001b[0m \u001b[32m━━━━━━━━━━━━━━━━━━━━\u001b[0m\u001b[37m\u001b[0m \u001b[1m3s\u001b[0m 2ms/step - accuracy: 0.9382 - loss: 0.2272 - val_accuracy: 0.9504 - val_loss: 0.2057\n",
      "Epoch 24/300\n",
      "\u001b[1m1929/1929\u001b[0m \u001b[32m━━━━━━━━━━━━━━━━━━━━\u001b[0m\u001b[37m\u001b[0m \u001b[1m3s\u001b[0m 2ms/step - accuracy: 0.9500 - loss: 0.2131 - val_accuracy: 0.9520 - val_loss: 0.1993\n",
      "Epoch 25/300\n",
      "\u001b[1m1929/1929\u001b[0m \u001b[32m━━━━━━━━━━━━━━━━━━━━\u001b[0m\u001b[37m\u001b[0m \u001b[1m4s\u001b[0m 2ms/step - accuracy: 0.9516 - loss: 0.2007 - val_accuracy: 0.9531 - val_loss: 0.1911\n",
      "Epoch 26/300\n",
      "\u001b[1m1929/1929\u001b[0m \u001b[32m━━━━━━━━━━━━━━━━━━━━\u001b[0m\u001b[37m\u001b[0m \u001b[1m3s\u001b[0m 2ms/step - accuracy: 0.9522 - loss: 0.1995 - val_accuracy: 0.9559 - val_loss: 0.1911\n",
      "Epoch 27/300\n",
      "\u001b[1m1929/1929\u001b[0m \u001b[32m━━━━━━━━━━━━━━━━━━━━\u001b[0m\u001b[37m\u001b[0m \u001b[1m3s\u001b[0m 2ms/step - accuracy: 0.9577 - loss: 0.1864 - val_accuracy: 0.9469 - val_loss: 0.2293\n",
      "Epoch 28/300\n",
      "\u001b[1m1929/1929\u001b[0m \u001b[32m━━━━━━━━━━━━━━━━━━━━\u001b[0m\u001b[37m\u001b[0m \u001b[1m4s\u001b[0m 2ms/step - accuracy: 0.9532 - loss: 0.2009 - val_accuracy: 0.9574 - val_loss: 0.1797\n",
      "Epoch 29/300\n",
      "\u001b[1m1929/1929\u001b[0m \u001b[32m━━━━━━━━━━━━━━━━━━━━\u001b[0m\u001b[37m\u001b[0m \u001b[1m3s\u001b[0m 2ms/step - accuracy: 0.9594 - loss: 0.1793 - val_accuracy: 0.9581 - val_loss: 0.1796\n",
      "Epoch 30/300\n",
      "\u001b[1m1929/1929\u001b[0m \u001b[32m━━━━━━━━━━━━━━━━━━━━\u001b[0m\u001b[37m\u001b[0m \u001b[1m3s\u001b[0m 2ms/step - accuracy: 0.9595 - loss: 0.1782 - val_accuracy: 0.9596 - val_loss: 0.1748\n",
      "Epoch 31/300\n",
      "\u001b[1m1929/1929\u001b[0m \u001b[32m━━━━━━━━━━━━━━━━━━━━\u001b[0m\u001b[37m\u001b[0m \u001b[1m3s\u001b[0m 2ms/step - accuracy: 0.9584 - loss: 0.1898 - val_accuracy: 0.9509 - val_loss: 0.2359\n",
      "Epoch 32/300\n",
      "\u001b[1m1929/1929\u001b[0m \u001b[32m━━━━━━━━━━━━━━━━━━━━\u001b[0m\u001b[37m\u001b[0m \u001b[1m3s\u001b[0m 2ms/step - accuracy: 0.9521 - loss: 0.2302 - val_accuracy: 0.9562 - val_loss: 0.2066\n",
      "Epoch 33/300\n",
      "\u001b[1m1929/1929\u001b[0m \u001b[32m━━━━━━━━━━━━━━━━━━━━\u001b[0m\u001b[37m\u001b[0m \u001b[1m3s\u001b[0m 2ms/step - accuracy: 0.9519 - loss: 0.2230 - val_accuracy: 0.9456 - val_loss: 0.2272\n",
      "Epoch 34/300\n",
      "\u001b[1m1929/1929\u001b[0m \u001b[32m━━━━━━━━━━━━━━━━━━━━\u001b[0m\u001b[37m\u001b[0m \u001b[1m3s\u001b[0m 2ms/step - accuracy: 0.9534 - loss: 0.2140 - val_accuracy: 0.9562 - val_loss: 0.2039\n",
      "Epoch 35/300\n",
      "\u001b[1m1929/1929\u001b[0m \u001b[32m━━━━━━━━━━━━━━━━━━━━\u001b[0m\u001b[37m\u001b[0m \u001b[1m3s\u001b[0m 2ms/step - accuracy: 0.9558 - loss: 0.2080 - val_accuracy: 0.9448 - val_loss: 0.2548\n",
      "Epoch 36/300\n",
      "\u001b[1m1929/1929\u001b[0m \u001b[32m━━━━━━━━━━━━━━━━━━━━\u001b[0m\u001b[37m\u001b[0m \u001b[1m3s\u001b[0m 2ms/step - accuracy: 0.9550 - loss: 0.2124 - val_accuracy: 0.9580 - val_loss: 0.1967\n",
      "Epoch 37/300\n",
      "\u001b[1m1929/1929\u001b[0m \u001b[32m━━━━━━━━━━━━━━━━━━━━\u001b[0m\u001b[37m\u001b[0m \u001b[1m4s\u001b[0m 2ms/step - accuracy: 0.9568 - loss: 0.2014 - val_accuracy: 0.9576 - val_loss: 0.1988\n",
      "Epoch 38/300\n",
      "\u001b[1m1929/1929\u001b[0m \u001b[32m━━━━━━━━━━━━━━━━━━━━\u001b[0m\u001b[37m\u001b[0m \u001b[1m4s\u001b[0m 2ms/step - accuracy: 0.9555 - loss: 0.2073 - val_accuracy: 0.9585 - val_loss: 0.1918\n",
      "Epoch 39/300\n",
      "\u001b[1m1929/1929\u001b[0m \u001b[32m━━━━━━━━━━━━━━━━━━━━\u001b[0m\u001b[37m\u001b[0m \u001b[1m3s\u001b[0m 2ms/step - accuracy: 0.9558 - loss: 0.2029 - val_accuracy: 0.9583 - val_loss: 0.1980\n",
      "Epoch 40/300\n",
      "\u001b[1m1929/1929\u001b[0m \u001b[32m━━━━━━━━━━━━━━━━━━━━\u001b[0m\u001b[37m\u001b[0m \u001b[1m3s\u001b[0m 2ms/step - accuracy: 0.9561 - loss: 0.2058 - val_accuracy: 0.9585 - val_loss: 0.1960\n",
      "Epoch 41/300\n",
      "\u001b[1m1929/1929\u001b[0m \u001b[32m━━━━━━━━━━━━━━━━━━━━\u001b[0m\u001b[37m\u001b[0m \u001b[1m3s\u001b[0m 2ms/step - accuracy: 0.9568 - loss: 0.1990 - val_accuracy: 0.9590 - val_loss: 0.1833\n",
      "Epoch 42/300\n",
      "\u001b[1m1929/1929\u001b[0m \u001b[32m━━━━━━━━━━━━━━━━━━━━\u001b[0m\u001b[37m\u001b[0m \u001b[1m3s\u001b[0m 2ms/step - accuracy: 0.9617 - loss: 0.1791 - val_accuracy: 0.9663 - val_loss: 0.1566\n",
      "Epoch 43/300\n",
      "\u001b[1m1929/1929\u001b[0m \u001b[32m━━━━━━━━━━━━━━━━━━━━\u001b[0m\u001b[37m\u001b[0m \u001b[1m3s\u001b[0m 2ms/step - accuracy: 0.9622 - loss: 0.1830 - val_accuracy: 0.9590 - val_loss: 0.1928\n",
      "Epoch 44/300\n",
      "\u001b[1m1929/1929\u001b[0m \u001b[32m━━━━━━━━━━━━━━━━━━━━\u001b[0m\u001b[37m\u001b[0m \u001b[1m3s\u001b[0m 2ms/step - accuracy: 0.9581 - loss: 0.1978 - val_accuracy: 0.9572 - val_loss: 0.2002\n",
      "Epoch 45/300\n",
      "\u001b[1m1929/1929\u001b[0m \u001b[32m━━━━━━━━━━━━━━━━━━━━\u001b[0m\u001b[37m\u001b[0m \u001b[1m3s\u001b[0m 2ms/step - accuracy: 0.9539 - loss: 0.2125 - val_accuracy: 0.9657 - val_loss: 0.1608\n",
      "Epoch 46/300\n",
      "\u001b[1m1929/1929\u001b[0m \u001b[32m━━━━━━━━━━━━━━━━━━━━\u001b[0m\u001b[37m\u001b[0m \u001b[1m3s\u001b[0m 2ms/step - accuracy: 0.9650 - loss: 0.1614 - val_accuracy: 0.9667 - val_loss: 0.1538\n",
      "Epoch 47/300\n",
      "\u001b[1m1929/1929\u001b[0m \u001b[32m━━━━━━━━━━━━━━━━━━━━\u001b[0m\u001b[37m\u001b[0m \u001b[1m4s\u001b[0m 2ms/step - accuracy: 0.9635 - loss: 0.1651 - val_accuracy: 0.9655 - val_loss: 0.1601\n",
      "Epoch 48/300\n",
      "\u001b[1m1929/1929\u001b[0m \u001b[32m━━━━━━━━━━━━━━━━━━━━\u001b[0m\u001b[37m\u001b[0m \u001b[1m3s\u001b[0m 2ms/step - accuracy: 0.9642 - loss: 0.1620 - val_accuracy: 0.9655 - val_loss: 0.1571\n",
      "Epoch 49/300\n",
      "\u001b[1m1929/1929\u001b[0m \u001b[32m━━━━━━━━━━━━━━━━━━━━\u001b[0m\u001b[37m\u001b[0m \u001b[1m4s\u001b[0m 2ms/step - accuracy: 0.9650 - loss: 0.1583 - val_accuracy: 0.9646 - val_loss: 0.1656\n",
      "Epoch 50/300\n",
      "\u001b[1m1929/1929\u001b[0m \u001b[32m━━━━━━━━━━━━━━━━━━━━\u001b[0m\u001b[37m\u001b[0m \u001b[1m3s\u001b[0m 2ms/step - accuracy: 0.9615 - loss: 0.1709 - val_accuracy: 0.9657 - val_loss: 0.1545\n",
      "Epoch 51/300\n",
      "\u001b[1m1929/1929\u001b[0m \u001b[32m━━━━━━━━━━━━━━━━━━━━\u001b[0m\u001b[37m\u001b[0m \u001b[1m3s\u001b[0m 2ms/step - accuracy: 0.9652 - loss: 0.1592 - val_accuracy: 0.9672 - val_loss: 0.1493\n",
      "Epoch 52/300\n",
      "\u001b[1m1929/1929\u001b[0m \u001b[32m━━━━━━━━━━━━━━━━━━━━\u001b[0m\u001b[37m\u001b[0m \u001b[1m3s\u001b[0m 2ms/step - accuracy: 0.9655 - loss: 0.1526 - val_accuracy: 0.9677 - val_loss: 0.1468\n",
      "Epoch 53/300\n",
      "\u001b[1m1929/1929\u001b[0m \u001b[32m━━━━━━━━━━━━━━━━━━━━\u001b[0m\u001b[37m\u001b[0m \u001b[1m4s\u001b[0m 2ms/step - accuracy: 0.9666 - loss: 0.1509 - val_accuracy: 0.9673 - val_loss: 0.1459\n",
      "Epoch 54/300\n",
      "\u001b[1m1929/1929\u001b[0m \u001b[32m━━━━━━━━━━━━━━━━━━━━\u001b[0m\u001b[37m\u001b[0m \u001b[1m3s\u001b[0m 2ms/step - accuracy: 0.9537 - loss: 0.1934 - val_accuracy: 0.9565 - val_loss: 0.1972\n",
      "Epoch 55/300\n",
      "\u001b[1m1929/1929\u001b[0m \u001b[32m━━━━━━━━━━━━━━━━━━━━\u001b[0m\u001b[37m\u001b[0m \u001b[1m3s\u001b[0m 2ms/step - accuracy: 0.9584 - loss: 0.1956 - val_accuracy: 0.9640 - val_loss: 0.1707\n",
      "Epoch 56/300\n",
      "\u001b[1m1929/1929\u001b[0m \u001b[32m━━━━━━━━━━━━━━━━━━━━\u001b[0m\u001b[37m\u001b[0m \u001b[1m3s\u001b[0m 2ms/step - accuracy: 0.9601 - loss: 0.1685 - val_accuracy: 0.9437 - val_loss: 0.1730\n",
      "Epoch 57/300\n",
      "\u001b[1m1929/1929\u001b[0m \u001b[32m━━━━━━━━━━━━━━━━━━━━\u001b[0m\u001b[37m\u001b[0m \u001b[1m4s\u001b[0m 2ms/step - accuracy: 0.9563 - loss: 0.1671 - val_accuracy: 0.9668 - val_loss: 0.1502\n",
      "Epoch 58/300\n",
      "\u001b[1m1929/1929\u001b[0m \u001b[32m━━━━━━━━━━━━━━━━━━━━\u001b[0m\u001b[37m\u001b[0m \u001b[1m3s\u001b[0m 2ms/step - accuracy: 0.9643 - loss: 0.1585 - val_accuracy: 0.9675 - val_loss: 0.1470\n",
      "Epoch 59/300\n",
      "\u001b[1m1929/1929\u001b[0m \u001b[32m━━━━━━━━━━━━━━━━━━━━\u001b[0m\u001b[37m\u001b[0m \u001b[1m3s\u001b[0m 2ms/step - accuracy: 0.9650 - loss: 0.1642 - val_accuracy: 0.9581 - val_loss: 0.1781\n",
      "Epoch 60/300\n",
      "\u001b[1m1929/1929\u001b[0m \u001b[32m━━━━━━━━━━━━━━━━━━━━\u001b[0m\u001b[37m\u001b[0m \u001b[1m3s\u001b[0m 2ms/step - accuracy: 0.9652 - loss: 0.1541 - val_accuracy: 0.9629 - val_loss: 0.1697\n",
      "Epoch 61/300\n",
      "\u001b[1m1929/1929\u001b[0m \u001b[32m━━━━━━━━━━━━━━━━━━━━\u001b[0m\u001b[37m\u001b[0m \u001b[1m3s\u001b[0m 2ms/step - accuracy: 0.9586 - loss: 0.1795 - val_accuracy: 0.9661 - val_loss: 0.1487\n",
      "Epoch 62/300\n",
      "\u001b[1m1929/1929\u001b[0m \u001b[32m━━━━━━━━━━━━━━━━━━━━\u001b[0m\u001b[37m\u001b[0m \u001b[1m3s\u001b[0m 2ms/step - accuracy: 0.9593 - loss: 0.1859 - val_accuracy: 0.9675 - val_loss: 0.1500\n",
      "Epoch 63/300\n",
      "\u001b[1m1929/1929\u001b[0m \u001b[32m━━━━━━━━━━━━━━━━━━━━\u001b[0m\u001b[37m\u001b[0m \u001b[1m4s\u001b[0m 2ms/step - accuracy: 0.9633 - loss: 0.1670 - val_accuracy: 0.9631 - val_loss: 0.1628\n",
      "Epoch 64/300\n",
      "\u001b[1m1929/1929\u001b[0m \u001b[32m━━━━━━━━━━━━━━━━━━━━\u001b[0m\u001b[37m\u001b[0m \u001b[1m3s\u001b[0m 2ms/step - accuracy: 0.9618 - loss: 0.1685 - val_accuracy: 0.9651 - val_loss: 0.1556\n",
      "Epoch 65/300\n",
      "\u001b[1m1929/1929\u001b[0m \u001b[32m━━━━━━━━━━━━━━━━━━━━\u001b[0m\u001b[37m\u001b[0m \u001b[1m3s\u001b[0m 2ms/step - accuracy: 0.9629 - loss: 0.1653 - val_accuracy: 0.9597 - val_loss: 0.1728\n",
      "Epoch 66/300\n",
      "\u001b[1m1929/1929\u001b[0m \u001b[32m━━━━━━━━━━━━━━━━━━━━\u001b[0m\u001b[37m\u001b[0m \u001b[1m3s\u001b[0m 2ms/step - accuracy: 0.9605 - loss: 0.1734 - val_accuracy: 0.9674 - val_loss: 0.1443\n",
      "Epoch 67/300\n",
      "\u001b[1m1929/1929\u001b[0m \u001b[32m━━━━━━━━━━━━━━━━━━━━\u001b[0m\u001b[37m\u001b[0m \u001b[1m4s\u001b[0m 2ms/step - accuracy: 0.9655 - loss: 0.1521 - val_accuracy: 0.9602 - val_loss: 0.1900\n",
      "Epoch 68/300\n",
      "\u001b[1m1929/1929\u001b[0m \u001b[32m━━━━━━━━━━━━━━━━━━━━\u001b[0m\u001b[37m\u001b[0m \u001b[1m3s\u001b[0m 2ms/step - accuracy: 0.9578 - loss: 0.2003 - val_accuracy: 0.9641 - val_loss: 0.1581\n",
      "Epoch 69/300\n",
      "\u001b[1m1929/1929\u001b[0m \u001b[32m━━━━━━━━━━━━━━━━━━━━\u001b[0m\u001b[37m\u001b[0m \u001b[1m3s\u001b[0m 2ms/step - accuracy: 0.9636 - loss: 0.1552 - val_accuracy: 0.9597 - val_loss: 0.1608\n",
      "Epoch 70/300\n",
      "\u001b[1m1929/1929\u001b[0m \u001b[32m━━━━━━━━━━━━━━━━━━━━\u001b[0m\u001b[37m\u001b[0m \u001b[1m4s\u001b[0m 2ms/step - accuracy: 0.9632 - loss: 0.1568 - val_accuracy: 0.9407 - val_loss: 0.1778\n",
      "Epoch 71/300\n",
      "\u001b[1m1929/1929\u001b[0m \u001b[32m━━━━━━━━━━━━━━━━━━━━\u001b[0m\u001b[37m\u001b[0m \u001b[1m3s\u001b[0m 2ms/step - accuracy: 0.9531 - loss: 0.1644 - val_accuracy: 0.9676 - val_loss: 0.1436\n",
      "Epoch 72/300\n",
      "\u001b[1m1929/1929\u001b[0m \u001b[32m━━━━━━━━━━━━━━━━━━━━\u001b[0m\u001b[37m\u001b[0m \u001b[1m3s\u001b[0m 2ms/step - accuracy: 0.9677 - loss: 0.1444 - val_accuracy: 0.9687 - val_loss: 0.1423\n",
      "Epoch 73/300\n",
      "\u001b[1m1929/1929\u001b[0m \u001b[32m━━━━━━━━━━━━━━━━━━━━\u001b[0m\u001b[37m\u001b[0m \u001b[1m3s\u001b[0m 2ms/step - accuracy: 0.9677 - loss: 0.1457 - val_accuracy: 0.9670 - val_loss: 0.1524\n",
      "Epoch 74/300\n",
      "\u001b[1m1929/1929\u001b[0m \u001b[32m━━━━━━━━━━━━━━━━━━━━\u001b[0m\u001b[37m\u001b[0m \u001b[1m3s\u001b[0m 2ms/step - accuracy: 0.9644 - loss: 0.1722 - val_accuracy: 0.9599 - val_loss: 0.1932\n",
      "Epoch 75/300\n",
      "\u001b[1m1929/1929\u001b[0m \u001b[32m━━━━━━━━━━━━━━━━━━━━\u001b[0m\u001b[37m\u001b[0m \u001b[1m3s\u001b[0m 2ms/step - accuracy: 0.9598 - loss: 0.1878 - val_accuracy: 0.9387 - val_loss: 0.1946\n",
      "Epoch 76/300\n",
      "\u001b[1m1929/1929\u001b[0m \u001b[32m━━━━━━━━━━━━━━━━━━━━\u001b[0m\u001b[37m\u001b[0m \u001b[1m3s\u001b[0m 2ms/step - accuracy: 0.9631 - loss: 0.1556 - val_accuracy: 0.9599 - val_loss: 0.1662\n",
      "Epoch 77/300\n",
      "\u001b[1m1929/1929\u001b[0m \u001b[32m━━━━━━━━━━━━━━━━━━━━\u001b[0m\u001b[37m\u001b[0m \u001b[1m3s\u001b[0m 2ms/step - accuracy: 0.9654 - loss: 0.1507 - val_accuracy: 0.9671 - val_loss: 0.1422\n",
      "Epoch 78/300\n",
      "\u001b[1m1929/1929\u001b[0m \u001b[32m━━━━━━━━━━━━━━━━━━━━\u001b[0m\u001b[37m\u001b[0m \u001b[1m3s\u001b[0m 2ms/step - accuracy: 0.9653 - loss: 0.1521 - val_accuracy: 0.9680 - val_loss: 0.1458\n",
      "Epoch 79/300\n",
      "\u001b[1m1929/1929\u001b[0m \u001b[32m━━━━━━━━━━━━━━━━━━━━\u001b[0m\u001b[37m\u001b[0m \u001b[1m4s\u001b[0m 2ms/step - accuracy: 0.9672 - loss: 0.1450 - val_accuracy: 0.9421 - val_loss: 0.1946\n",
      "Epoch 80/300\n",
      "\u001b[1m1929/1929\u001b[0m \u001b[32m━━━━━━━━━━━━━━━━━━━━\u001b[0m\u001b[37m\u001b[0m \u001b[1m3s\u001b[0m 2ms/step - accuracy: 0.9622 - loss: 0.1519 - val_accuracy: 0.9672 - val_loss: 0.1452\n",
      "Epoch 81/300\n",
      "\u001b[1m1929/1929\u001b[0m \u001b[32m━━━━━━━━━━━━━━━━━━━━\u001b[0m\u001b[37m\u001b[0m \u001b[1m3s\u001b[0m 2ms/step - accuracy: 0.9665 - loss: 0.1461 - val_accuracy: 0.9584 - val_loss: 0.1662\n",
      "Epoch 82/300\n",
      "\u001b[1m1929/1929\u001b[0m \u001b[32m━━━━━━━━━━━━━━━━━━━━\u001b[0m\u001b[37m\u001b[0m \u001b[1m3s\u001b[0m 2ms/step - accuracy: 0.9609 - loss: 0.1614 - val_accuracy: 0.9672 - val_loss: 0.1411\n",
      "Epoch 83/300\n",
      "\u001b[1m1929/1929\u001b[0m \u001b[32m━━━━━━━━━━━━━━━━━━━━\u001b[0m\u001b[37m\u001b[0m \u001b[1m3s\u001b[0m 2ms/step - accuracy: 0.9649 - loss: 0.1470 - val_accuracy: 0.9436 - val_loss: 0.2309\n",
      "Epoch 84/300\n",
      "\u001b[1m1929/1929\u001b[0m \u001b[32m━━━━━━━━━━━━━━━━━━━━\u001b[0m\u001b[37m\u001b[0m \u001b[1m3s\u001b[0m 2ms/step - accuracy: 0.9493 - loss: 0.2095 - val_accuracy: 0.9606 - val_loss: 0.1797\n",
      "Epoch 85/300\n",
      "\u001b[1m1929/1929\u001b[0m \u001b[32m━━━━━━━━━━━━━━━━━━━━\u001b[0m\u001b[37m\u001b[0m \u001b[1m3s\u001b[0m 2ms/step - accuracy: 0.9599 - loss: 0.1852 - val_accuracy: 0.9634 - val_loss: 0.1751\n",
      "Epoch 86/300\n",
      "\u001b[1m1929/1929\u001b[0m \u001b[32m━━━━━━━━━━━━━━━━━━━━\u001b[0m\u001b[37m\u001b[0m \u001b[1m3s\u001b[0m 2ms/step - accuracy: 0.9579 - loss: 0.1880 - val_accuracy: 0.9591 - val_loss: 0.1652\n",
      "Epoch 87/300\n",
      "\u001b[1m1929/1929\u001b[0m \u001b[32m━━━━━━━━━━━━━━━━━━━━\u001b[0m\u001b[37m\u001b[0m \u001b[1m3s\u001b[0m 2ms/step - accuracy: 0.9608 - loss: 0.1639 - val_accuracy: 0.9686 - val_loss: 0.1384\n",
      "Epoch 88/300\n",
      "\u001b[1m1929/1929\u001b[0m \u001b[32m━━━━━━━━━━━━━━━━━━━━\u001b[0m\u001b[37m\u001b[0m \u001b[1m3s\u001b[0m 2ms/step - accuracy: 0.9671 - loss: 0.1425 - val_accuracy: 0.9683 - val_loss: 0.1377\n",
      "Epoch 89/300\n",
      "\u001b[1m1929/1929\u001b[0m \u001b[32m━━━━━━━━━━━━━━━━━━━━\u001b[0m\u001b[37m\u001b[0m \u001b[1m3s\u001b[0m 2ms/step - accuracy: 0.9669 - loss: 0.1440 - val_accuracy: 0.9706 - val_loss: 0.1323\n",
      "Epoch 90/300\n",
      "\u001b[1m1929/1929\u001b[0m \u001b[32m━━━━━━━━━━━━━━━━━━━━\u001b[0m\u001b[37m\u001b[0m \u001b[1m3s\u001b[0m 2ms/step - accuracy: 0.9684 - loss: 0.1379 - val_accuracy: 0.9667 - val_loss: 0.1451\n",
      "Epoch 91/300\n",
      "\u001b[1m1929/1929\u001b[0m \u001b[32m━━━━━━━━━━━━━━━━━━━━\u001b[0m\u001b[37m\u001b[0m \u001b[1m3s\u001b[0m 2ms/step - accuracy: 0.9675 - loss: 0.1432 - val_accuracy: 0.9619 - val_loss: 0.1651\n",
      "Epoch 92/300\n",
      "\u001b[1m1929/1929\u001b[0m \u001b[32m━━━━━━━━━━━━━━━━━━━━\u001b[0m\u001b[37m\u001b[0m \u001b[1m3s\u001b[0m 2ms/step - accuracy: 0.9608 - loss: 0.1669 - val_accuracy: 0.9632 - val_loss: 0.1543\n",
      "Epoch 93/300\n",
      "\u001b[1m1929/1929\u001b[0m \u001b[32m━━━━━━━━━━━━━━━━━━━━\u001b[0m\u001b[37m\u001b[0m \u001b[1m3s\u001b[0m 2ms/step - accuracy: 0.9630 - loss: 0.1529 - val_accuracy: 0.9552 - val_loss: 0.1977\n",
      "Epoch 94/300\n",
      "\u001b[1m1929/1929\u001b[0m \u001b[32m━━━━━━━━━━━━━━━━━━━━\u001b[0m\u001b[37m\u001b[0m \u001b[1m3s\u001b[0m 2ms/step - accuracy: 0.9566 - loss: 0.1948 - val_accuracy: 0.9668 - val_loss: 0.1516\n",
      "Epoch 95/300\n",
      "\u001b[1m1929/1929\u001b[0m \u001b[32m━━━━━━━━━━━━━━━━━━━━\u001b[0m\u001b[37m\u001b[0m \u001b[1m3s\u001b[0m 2ms/step - accuracy: 0.9651 - loss: 0.1533 - val_accuracy: 0.9669 - val_loss: 0.1471\n",
      "Epoch 96/300\n",
      "\u001b[1m1929/1929\u001b[0m \u001b[32m━━━━━━━━━━━━━━━━━━━━\u001b[0m\u001b[37m\u001b[0m \u001b[1m4s\u001b[0m 2ms/step - accuracy: 0.9651 - loss: 0.1507 - val_accuracy: 0.9582 - val_loss: 0.1937\n",
      "Epoch 97/300\n",
      "\u001b[1m1929/1929\u001b[0m \u001b[32m━━━━━━━━━━━━━━━━━━━━\u001b[0m\u001b[37m\u001b[0m \u001b[1m3s\u001b[0m 2ms/step - accuracy: 0.9567 - loss: 0.1937 - val_accuracy: 0.9581 - val_loss: 0.1849\n",
      "Epoch 98/300\n",
      "\u001b[1m1929/1929\u001b[0m \u001b[32m━━━━━━━━━━━━━━━━━━━━\u001b[0m\u001b[37m\u001b[0m \u001b[1m3s\u001b[0m 2ms/step - accuracy: 0.9587 - loss: 0.1851 - val_accuracy: 0.9599 - val_loss: 0.1811\n",
      "Epoch 99/300\n",
      "\u001b[1m1929/1929\u001b[0m \u001b[32m━━━━━━━━━━━━━━━━━━━━\u001b[0m\u001b[37m\u001b[0m \u001b[1m3s\u001b[0m 2ms/step - accuracy: 0.9596 - loss: 0.1851 - val_accuracy: 0.9570 - val_loss: 0.1924\n",
      "Epoch 100/300\n",
      "\u001b[1m1929/1929\u001b[0m \u001b[32m━━━━━━━━━━━━━━━━━━━━\u001b[0m\u001b[37m\u001b[0m \u001b[1m3s\u001b[0m 2ms/step - accuracy: 0.9573 - loss: 0.1892 - val_accuracy: 0.9594 - val_loss: 0.1821\n",
      "Epoch 101/300\n",
      "\u001b[1m1929/1929\u001b[0m \u001b[32m━━━━━━━━━━━━━━━━━━━━\u001b[0m\u001b[37m\u001b[0m \u001b[1m3s\u001b[0m 2ms/step - accuracy: 0.9584 - loss: 0.1832 - val_accuracy: 0.9593 - val_loss: 0.1830\n",
      "Epoch 102/300\n",
      "\u001b[1m1929/1929\u001b[0m \u001b[32m━━━━━━━━━━━━━━━━━━━━\u001b[0m\u001b[37m\u001b[0m \u001b[1m3s\u001b[0m 2ms/step - accuracy: 0.9595 - loss: 0.1806 - val_accuracy: 0.9603 - val_loss: 0.1765\n",
      "Epoch 103/300\n",
      "\u001b[1m1929/1929\u001b[0m \u001b[32m━━━━━━━━━━━━━━━━━━━━\u001b[0m\u001b[37m\u001b[0m \u001b[1m3s\u001b[0m 2ms/step - accuracy: 0.9594 - loss: 0.1816 - val_accuracy: 0.9579 - val_loss: 0.1819\n",
      "Epoch 104/300\n",
      "\u001b[1m1929/1929\u001b[0m \u001b[32m━━━━━━━━━━━━━━━━━━━━\u001b[0m\u001b[37m\u001b[0m \u001b[1m3s\u001b[0m 2ms/step - accuracy: 0.9575 - loss: 0.1853 - val_accuracy: 0.9668 - val_loss: 0.1412\n",
      "Epoch 105/300\n",
      "\u001b[1m1929/1929\u001b[0m \u001b[32m━━━━━━━━━━━━━━━━━━━━\u001b[0m\u001b[37m\u001b[0m \u001b[1m3s\u001b[0m 2ms/step - accuracy: 0.9655 - loss: 0.1439 - val_accuracy: 0.9669 - val_loss: 0.1393\n",
      "Epoch 106/300\n",
      "\u001b[1m1929/1929\u001b[0m \u001b[32m━━━━━━━━━━━━━━━━━━━━\u001b[0m\u001b[37m\u001b[0m \u001b[1m3s\u001b[0m 2ms/step - accuracy: 0.9637 - loss: 0.1478 - val_accuracy: 0.9671 - val_loss: 0.1410\n",
      "Epoch 107/300\n",
      "\u001b[1m1929/1929\u001b[0m \u001b[32m━━━━━━━━━━━━━━━━━━━━\u001b[0m\u001b[37m\u001b[0m \u001b[1m3s\u001b[0m 2ms/step - accuracy: 0.9630 - loss: 0.1610 - val_accuracy: 0.9587 - val_loss: 0.1815\n",
      "Epoch 108/300\n",
      "\u001b[1m1929/1929\u001b[0m \u001b[32m━━━━━━━━━━━━━━━━━━━━\u001b[0m\u001b[37m\u001b[0m \u001b[1m3s\u001b[0m 2ms/step - accuracy: 0.9574 - loss: 0.1851 - val_accuracy: 0.9593 - val_loss: 0.1790\n",
      "Epoch 109/300\n",
      "\u001b[1m1929/1929\u001b[0m \u001b[32m━━━━━━━━━━━━━━━━━━━━\u001b[0m\u001b[37m\u001b[0m \u001b[1m3s\u001b[0m 2ms/step - accuracy: 0.9575 - loss: 0.1893 - val_accuracy: 0.9597 - val_loss: 0.1782\n"
     ]
    }
   ],
   "source": [
    "num_features = X_resampled.shape[1]\n",
    "num_classes = y_resampled.shape[1]\n",
    "\n",
    "nn_model = Sequential()\n",
    "\n",
    "nn_model.add(Dense(64, input_dim=num_features, activation='softmax'))\n",
    "nn_model.add(Dense(150, activation='softmax'))\n",
    "nn_model.add(Dense(200, activation='softmax'))\n",
    "nn_model.add(Dense(100, activation='softmax'))\n",
    "nn_model.add(Dense(num_classes, activation='softmax'))\n",
    "\n",
    "nn_model.compile(optimizer='adam', loss='categorical_crossentropy', metrics=['accuracy'])\n",
    "\n",
    "early_stopping = EarlyStopping(\n",
    "    monitor='val_loss',  \n",
    "    patience=20,         \n",
    "    restore_best_weights=True  \n",
    ")\n",
    "\n",
    "# Model training\n",
    "history = nn_model.fit(\n",
    "    X_training, y_training,\n",
    "    validation_data=(X_validation, y_validation),  \n",
    "    epochs=300,            \n",
    "    batch_size=32,\n",
    "    callbacks=[early_stopping],\n",
    "    verbose=1\n",
    ")"
   ]
  },
  {
   "cell_type": "code",
   "execution_count": 26,
   "metadata": {},
   "outputs": [
    {
     "name": "stdout",
     "output_type": "stream",
     "text": [
      "\u001b[1m827/827\u001b[0m \u001b[32m━━━━━━━━━━━━━━━━━━━━\u001b[0m\u001b[37m\u001b[0m \u001b[1m1s\u001b[0m 927us/step\n",
      "Accuracy NN:              0.9706293706293706\n",
      "Precision NN:             0.9487900952320234\n",
      "Recall NN:                0.9706293706293706\n",
      "F1-Score NN:              0.9592716066044076\n"
     ]
    }
   ],
   "source": [
    "y_pred_nn = nn_model.predict(X_validation)\n",
    "\n",
    "y_validation_label = np.argmax(y_validation, axis=1)\n",
    "y_pred_nn_label = np.argmax(y_pred_nn, axis=1)\n",
    "\n",
    "metrics_nn = evaluate_model(y_validation_label, y_pred_nn_label)\n",
    "\n",
    "models_metrics_dataset_agumentation['NN'] = metrics_nn\n",
    "\n",
    "print(\"Accuracy NN:              \" + str(models_metrics_dataset_agumentation['NN']['Accuracy']))\n",
    "print(\"Precision NN:             \" + str(models_metrics_dataset_agumentation['NN']['Precision']))\n",
    "print(\"Recall NN:                \" + str(models_metrics_dataset_agumentation['NN']['Recall']))\n",
    "print(\"F1-Score NN:              \" + str(models_metrics_dataset_agumentation['NN']['F1-Score']))"
   ]
  },
  {
   "cell_type": "markdown",
   "metadata": {},
   "source": [
    "During the neural network testing phase, another approach was also considered to try to improve the model's performance.\n",
    "\n",
    "In fact, for the other models considered, the model structure was not manually set but an approach based on *RandomizedSearchCV* was used to return the best parameters for the models considered, namely *Random Forest* and *KNN*.\n",
    "\n",
    "Therefore, it was thought to use a similar approach, therefore to use an automatic approach to search for the parameters to use.\n",
    "\n",
    "As regards the neural network, the use of *Keras Tuner* was considered to obtain the best parameters to use in the model; during the testing phase, this approach was used after having built, trained and tested the model indicated in the project and no benefits were obtained in terms of performance for the network.\n",
    "\n",
    "The approach considered is the use of *Keras Tuner* for tuning the network's hyperparameters but using the parameters obtained, but the model's performance deteriorated."
   ]
  },
  {
   "cell_type": "markdown",
   "metadata": {},
   "source": [
    "## Conclusions\n",
    "\n",
    "The performances obtained by the various models are reported in a bar graph."
   ]
  },
  {
   "cell_type": "code",
   "execution_count": 27,
   "metadata": {},
   "outputs": [
    {
     "data": {
      "text/plain": [
       "<Figure size 800x800 with 0 Axes>"
      ]
     },
     "metadata": {},
     "output_type": "display_data"
    },
    {
     "data": {
      "image/png": "[encoded data removed]",
      "text/plain": [
       "<Figure size 800x800 with 1 Axes>"
      ]
     },
     "metadata": {},
     "output_type": "display_data"
    }
   ],
   "source": [
    "data = pd.DataFrame(models_metrics_dataset_agumentation).T \n",
    "\n",
    "best_per_metric = data.max()\n",
    "\n",
    "plt.figure(figsize=(8, 8))\n",
    "colors = sns.color_palette(\"viridis\", len(data.columns))\n",
    "bars = data.plot(kind='bar', figsize=(8, 8), width=0.8, alpha=0.85, color=colors)\n",
    "\n",
    "# Notes on values\n",
    "for p in bars.patches:\n",
    "    bars.annotate(\n",
    "        f'{p.get_height():.2f}', \n",
    "        (p.get_x() + p.get_width() / 2, p.get_height() + 0.01),\n",
    "        ha='center', va='bottom', fontsize=10, color='black'\n",
    "    )\n",
    "\n",
    "plt.title(\"Model Performance\", fontsize=16)\n",
    "plt.ylabel(\"Metrics\", fontsize=14)\n",
    "plt.xlabel(\"Models\", fontsize=14)\n",
    "plt.xticks(rotation=0, fontsize=12)\n",
    "plt.legend(title=\"Metrics\", fontsize=12, loc='upper right')\n",
    "plt.grid(axis='y', linestyle='--', alpha=0.7)\n",
    "plt.tight_layout()\n",
    "plt.show()"
   ]
  },
  {
   "cell_type": "markdown",
   "metadata": {},
   "source": [
    "The values ​​obtained are the following."
   ]
  },
  {
   "cell_type": "code",
   "execution_count": 31,
   "metadata": {},
   "outputs": [
    {
     "name": "stdout",
     "output_type": "stream",
     "text": [
      "Accuracy Random Forest:              0.9979889923793396\n",
      "Precision Random Forest:             0.9985983393878977\n",
      "Recall Random Forest:                0.9979889923793396\n",
      "F1-Score Random Forest:              0.9982244198868327\n",
      "\n",
      "\n",
      "Accuracy KNN:                        0.9906064775613886\n",
      "Precision KNN:                       0.9907090578462862\n",
      "Recall KNN:                          0.9906064775613886\n",
      "F1-Score KNN:                        0.9906350160948829\n",
      "\n",
      "\n",
      "Accuracy NN:                         0.9748359441151566\n",
      "Precision NN:                        0.9574422467548963\n",
      "Recall NN:                           0.9748359441151566\n",
      "F1-Score NN:                         0.9658848122803023\n"
     ]
    }
   ],
   "source": [
    "print(\"Accuracy Random Forest:              \" + str(models_metrics_dataset_agumentation['Random Forest']['Accuracy']))\n",
    "print(\"Precision Random Forest:             \" + str(models_metrics_dataset_agumentation['Random Forest']['Precision']))\n",
    "print(\"Recall Random Forest:                \" + str(models_metrics_dataset_agumentation['Random Forest']['Recall']))\n",
    "print(\"F1-Score Random Forest:              \" + str(models_metrics_dataset_agumentation['Random Forest']['F1-Score']))\n",
    "\n",
    "print()\n",
    "print()\n",
    "\n",
    "print(\"Accuracy KNN:                        \" + str(models_metrics_dataset_agumentation['KNN']['Accuracy']))\n",
    "print(\"Precision KNN:                       \" + str(models_metrics_dataset_agumentation['KNN']['Precision']))\n",
    "print(\"Recall KNN:                          \" + str(models_metrics_dataset_agumentation['KNN']['Recall']))\n",
    "print(\"F1-Score KNN:                        \" + str(models_metrics_dataset_agumentation['KNN']['F1-Score']))\n",
    "\n",
    "print()\n",
    "print()\n",
    "\n",
    "print(\"Accuracy NN:                         \" + str(models_metrics_dataset_agumentation['NN']['Accuracy']))\n",
    "print(\"Precision NN:                        \" + str(models_metrics_dataset_agumentation['NN']['Precision']))\n",
    "print(\"Recall NN:                           \" + str(models_metrics_dataset_agumentation['NN']['Recall']))\n",
    "print(\"F1-Score NN:                         \" + str(models_metrics_dataset_agumentation['NN']['F1-Score']))"
   ]
  }
 ],
 "metadata": {
  "kernelspec": {
   "display_name": "INTRUSION_DETECTION",
   "language": "python",
   "name": "python3"
  },
  "language_info": {
   "codemirror_mode": {
    "name": "ipython",
    "version": 3
   },
   "file_extension": ".py",
   "mimetype": "text/x-python",
   "name": "python",
   "nbconvert_exporter": "python",
   "pygments_lexer": "ipython3",
   "version": "3.10.16"
  }
 },
 "nbformat": 4,
 "nbformat_minor": 2
}
