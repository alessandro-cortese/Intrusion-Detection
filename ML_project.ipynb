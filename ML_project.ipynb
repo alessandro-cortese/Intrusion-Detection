{
  "cells": [
    {
      "cell_type": "markdown",
      "metadata": {
        "id": "hyV_Vob3bNNU"
      },
      "source": [
        "# **Car Prices Prediction**"
      ]
    },
    {
      "cell_type": "markdown",
      "metadata": {
        "id": "Fwa29WofKsAO"
      },
      "source": [
        "\n",
        "  ## **Introduction**\n",
        "\n",
        "  The purpose of this project is to train and compare multiple regression models with the goal of predicting the price of used cars by knowing the following characteristics:\n",
        "\n",
        "  * **Manufacturer**;\n",
        "  * **Model**;\n",
        "  * **Year**;\n",
        "  * **Transmission**;\n",
        "  * **Mileage**;\n",
        "  * **Type of Fuel**;\n",
        "  * **Miles per Gallon**;\n",
        "  * **Engine Size**.\n",
        "\n",
        "The dataset considered contains about 40000 examples of used cars sold in the UK, provided through the CVS file 'car_prices.csv'.\n",
        "\n",
        "**N.B.:** The dataset is uploaded from Google Drive, so if you want to use the notebook you have to upload the dataset in advance.\n",
        "\n"
      ]
    },
    {
      "cell_type": "markdown",
      "metadata": {
        "id": "j4Kv7ZNh7zxX"
      },
      "source": [
        "## **Libraries**\n",
        "\n",
        "Main libraries used are:\n",
        "* **tensorflow**: enables the development and training of machine learning models focused on DNN;\n",
        "* **keras**: used for semplify the training of the model;\n",
        "* **sklearn**: supports supervised and unsupervised learning, provides various tools for preprocessing, model selection, model evaluation and many other utilities;\n",
        "* **pandas**: Python library that provide data structures and functions to efficiently maanupulate data;\n",
        "* **numpy**: Python library that provide data structures and function to efficiently work on large N-dimensional numerical array;\n",
        "* **seaborn** and **matplotlib**: libraries used to visualize data and build graphs."
      ]
    },
    {
      "cell_type": "code",
      "execution_count": 1,
      "metadata": {
        "id": "YwzVfmVeY8Fb"
      },
      "outputs": [],
      "source": [
        "import tensorflow as tf\n",
        "from tensorflow import keras\n",
        "\n",
        "from keras.models import Sequential\n",
        "from keras.layers import Dense, Activation, Flatten, Dropout\n",
        "from keras.initializers import HeNormal, GlorotUniform\n",
        "from keras.optimizers import Adam\n",
        "from keras.callbacks import EarlyStopping\n",
        "\n",
        "from sklearn.model_selection import train_test_split\n",
        "from sklearn.ensemble import RandomForestRegressor\n",
        "from sklearn.metrics import mean_absolute_error\n",
        "from sklearn.preprocessing import OneHotEncoder\n",
        "from sklearn.preprocessing import StandardScaler\n",
        "from sklearn.pipeline import make_pipeline\n",
        "from sklearn.compose import make_column_transformer\n",
        "from sklearn.model_selection import train_test_split\n",
        "from sklearn.model_selection import RandomizedSearchCV\n",
        "from sklearn.metrics import mean_absolute_error\n",
        "\n",
        "from matplotlib import pyplot as plt\n",
        "\n",
        "import seaborn as sb\n",
        "import matplotlib.pyplot as plt\n",
        "import pandas as pd\n",
        "import numpy as np\n",
        "import warnings\n",
        "\n",
        "warnings.filterwarnings('ignore')\n",
        "warnings.filterwarnings('ignore', category = DeprecationWarning)"
      ]
    },
    {
      "cell_type": "markdown",
      "metadata": {
        "id": "ogwjKroE2kB9"
      },
      "source": [
        "## **Utils Function**\n",
        "\n"
      ]
    },
    {
      "cell_type": "markdown",
      "source": [
        "The following function is used to plot the metrics through epochs."
      ],
      "metadata": {
        "id": "M8vLXFblZpC1"
      }
    },
    {
      "cell_type": "code",
      "source": [
        "def plot_metrics(history):\n",
        "    plt.figure(figsize=(14, 5))\n",
        "\n",
        "    # Plot of loss\n",
        "    plt.subplot(1, 2, 1)\n",
        "    plt.plot(history.history['loss'], label='Training Loss')\n",
        "    plt.plot(history.history['val_loss'], label='Validation Loss')\n",
        "    plt.xlabel('Epochs')\n",
        "    plt.ylabel('Loss')\n",
        "    plt.title('Loss Over Epochs')\n",
        "    plt.legend()\n",
        "\n",
        "    # Plot of MAE (Mean Absolute Error)\n",
        "    plt.subplot(1, 2, 2)\n",
        "    plt.plot(history.history['mean_absolute_error'], label='Training MAE')\n",
        "    plt.plot(history.history['val_mean_absolute_error'], label='Validation MAE')\n",
        "    plt.xlabel('Epochs')\n",
        "    plt.ylabel('MAE')\n",
        "    plt.title('Mean Absolute Error Over Epochs')\n",
        "    plt.legend()\n",
        "\n",
        "    plt.show()\n"
      ],
      "metadata": {
        "id": "jz5DVnW4Z0Ik"
      },
      "execution_count": 23,
      "outputs": []
    },
    {
      "cell_type": "markdown",
      "source": [
        "This function is used to evaluate the performance on the testing set to observe the performance."
      ],
      "metadata": {
        "id": "zMSE6rY2bVAQ"
      }
    },
    {
      "cell_type": "code",
      "source": [
        "def evaluate_performance(model, test_data, test_labels):\n",
        "    loss, mae = model.evaluate(test_data, test_labels, verbose = 0)\n",
        "    #print(f'Test MAE: {mae:.4f}')\n",
        "    return mae"
      ],
      "metadata": {
        "id": "IYuOJIQKbbXQ"
      },
      "execution_count": 56,
      "outputs": []
    },
    {
      "cell_type": "markdown",
      "metadata": {
        "id": "zPRIl4qk3OBa"
      },
      "source": [
        "## **Loading the Dataset**\n",
        "\n",
        "Load the dataset from Google Drive."
      ]
    },
    {
      "cell_type": "code",
      "execution_count": 25,
      "metadata": {
        "colab": {
          "base_uri": "https://localhost:8080/"
        },
        "id": "g_PW7bzg3Ycz",
        "outputId": "bf20caaa-4f8c-4bab-e828-feccae8ec747"
      },
      "outputs": [
        {
          "output_type": "stream",
          "name": "stdout",
          "text": [
            "Mounted at /content/drive\n"
          ]
        }
      ],
      "source": [
        "from google.colab import drive\n",
        "drive.mount('/content/drive', force_remount = True)\n",
        "dataset_path = 'drive/MyDrive/projectML/car_prices.csv'\n",
        "data = pd.read_csv(dataset_path)\n",
        "#data.head()"
      ]
    },
    {
      "cell_type": "markdown",
      "metadata": {
        "id": "KykC1UDH4XyY"
      },
      "source": [
        "Once the dataset is loaded, the column for the prices to predict is removed."
      ]
    },
    {
      "cell_type": "code",
      "execution_count": 26,
      "metadata": {
        "id": "TxvjnAWO4bBW"
      },
      "outputs": [],
      "source": [
        "#Dataset without price column\n",
        "dataset = data.drop('price', axis = 1)\n",
        "#dataset.head()"
      ]
    },
    {
      "cell_type": "code",
      "execution_count": 27,
      "metadata": {
        "id": "DtYhdI756RyE"
      },
      "outputs": [],
      "source": [
        "#The price column to predict\n",
        "prices = data['price']\n",
        "#prices.head()"
      ]
    },
    {
      "cell_type": "markdown",
      "metadata": {
        "id": "zFbQN8Nl5l5N"
      },
      "source": []
    },
    {
      "cell_type": "markdown",
      "metadata": {
        "id": "aJz_a_qO6cmO"
      },
      "source": [
        "## **Dataset Preprocessing**\n",
        "\n",
        "Before the dataset can be used, the issue of missing values or NaN data must be considered so as to have \"clean\" data.\n"
      ]
    },
    {
      "cell_type": "code",
      "execution_count": 28,
      "metadata": {
        "colab": {
          "base_uri": "https://localhost:8080/"
        },
        "id": "W8efjXXhfZ73",
        "outputId": "9d30492a-79a0-4a5c-9ca1-90144d52beea"
      },
      "outputs": [
        {
          "output_type": "stream",
          "name": "stdout",
          "text": [
            "There are not invalid entries inside the dataset.\n",
            "There are not invalid entries inside prices column.\n"
          ]
        }
      ],
      "source": [
        "null_dataset = dataset.isnull().values.any()\n",
        "null_prices = prices.isnull().values.any()\n",
        "\n",
        "print('There are invalid entries inside the detaset.' if null_dataset else 'There are not invalid entries inside the dataset.')\n",
        "print('There are invalid entries inside prices column.' if null_prices else 'There are not invalid entries inside prices column.')"
      ]
    },
    {
      "cell_type": "markdown",
      "metadata": {
        "id": "f9XDlK6zhP1J"
      },
      "source": [
        "Consider the unique values present within the features of the dataset."
      ]
    },
    {
      "cell_type": "code",
      "execution_count": 29,
      "metadata": {
        "colab": {
          "base_uri": "https://localhost:8080/"
        },
        "id": "SHooiz_QhTCY",
        "outputId": "1c990d47-c39c-417d-f3a1-b9394d0b8d9e"
      },
      "outputs": [
        {
          "output_type": "stream",
          "name": "stdout",
          "text": [
            "/---------------------------------------------------------------------------------------/\n",
            "\n",
            "Manufacturer Values:\n",
            "['Audi' 'BMW' 'Toyota' 'Mercedes'] \n",
            "\n",
            "/---------------------------------------------------------------------------------------/\n",
            "\n",
            "Model Values:\n",
            "[' A1' ' A6' ' A4' ' A3' ' Q3' ' Q5' ' A5' ' S4' ' Q2' ' A7' ' TT' ' Q7'\n",
            " ' RS6' ' RS3' ' A8' ' Q8' ' RS4' ' RS5' ' R8' ' SQ5' ' S8' ' SQ7' ' S3'\n",
            " ' S5' ' A2' ' RS7' ' 5 Series' ' 6 Series' ' 1 Series' ' 7 Series'\n",
            " ' 2 Series' ' 4 Series' ' X3' ' 3 Series' ' X5' ' X4' ' i3' ' X1' ' M4'\n",
            " ' X2' ' X6' ' 8 Series' ' Z4' ' X7' ' M5' ' i8' ' M2' ' M3' ' M6' ' Z3'\n",
            " ' GT86' ' Corolla' ' RAV4' ' Yaris' ' Auris' ' Aygo' ' C-HR' ' Prius'\n",
            " ' Avensis' ' Verso' ' Hilux' ' PROACE VERSO' ' Land Cruiser' ' Supra'\n",
            " ' Camry' ' Verso-S' ' IQ' ' Urban Cruiser' ' SLK' ' S Class' ' SL CLASS'\n",
            " ' G Class' ' GLE Class' ' GLA Class' ' A Class' ' B Class' ' GLC Class'\n",
            " ' C Class' ' E Class' ' GL Class' ' CLS Class' ' CLC Class' ' CLA Class'\n",
            " ' V Class' ' M Class' ' CL Class' ' GLS Class' ' GLB Class' ' X-CLASS'\n",
            " '180' ' CLK' ' R Class' '230' '220' '200'] \n",
            "\n",
            "/---------------------------------------------------------------------------------------/\n",
            "\n",
            "Transmission Values:\n",
            "['Manual' 'Automatic' 'Semi-Auto' 'Other'] \n",
            "\n",
            "/---------------------------------------------------------------------------------------/\n",
            "\n",
            "Type of Fuel Values:\n",
            "['Petrol' 'Diesel' 'Hybrid' 'Other' 'Electric'] \n",
            "\n",
            "/---------------------------------------------------------------------------------------/\n",
            "\n"
          ]
        }
      ],
      "source": [
        "manufacturer_unique_values = dataset['manufacturer'].unique()\n",
        "model_unique_values = dataset['model'].unique()\n",
        "transmission_unique_values = dataset['transmission'].unique()\n",
        "type_of_fuel_unique_values = dataset['fuelType'].unique()\n",
        "\n",
        "print(\"/---------------------------------------------------------------------------------------/\\n\")\n",
        "print(\"Manufacturer Values:\")\n",
        "print(manufacturer_unique_values, \"\\n\")\n",
        "print(\"/---------------------------------------------------------------------------------------/\\n\")\n",
        "print(\"Model Values:\")\n",
        "print(model_unique_values, \"\\n\")\n",
        "print(\"/---------------------------------------------------------------------------------------/\\n\")\n",
        "print(\"Transmission Values:\")\n",
        "print(transmission_unique_values, \"\\n\")\n",
        "print(\"/---------------------------------------------------------------------------------------/\\n\")\n",
        "print(\"Type of Fuel Values:\")\n",
        "print(type_of_fuel_unique_values, \"\\n\")\n",
        "print(\"/---------------------------------------------------------------------------------------/\\n\")"
      ]
    },
    {
      "cell_type": "markdown",
      "metadata": {
        "id": "tfKrZxRKj0eO"
      },
      "source": [
        "The features of the dataset can be divided into two categories:\n",
        "\n",
        "* **categorical**: values that represent distinct and discrete attributes,  in our dataset we consider the following features as categorical: manufacturer, model, transmission, type of fuel;\n",
        "* **numerical**: values on which it is possible to do mathematical operations, in the dataset considered we consider the following features as numeric: year, milage, milage per gallon, engine size."
      ]
    },
    {
      "cell_type": "code",
      "execution_count": 30,
      "metadata": {
        "id": "qWEUL4ihihGr"
      },
      "outputs": [],
      "source": [
        "numerical_features = ['year', 'milage', 'mpg', 'engineSize']\n",
        "categorical_features = ['manufacturer', 'model', 'transmission', 'fuelType']\n"
      ]
    },
    {
      "cell_type": "markdown",
      "metadata": {
        "id": "XeLMRoytnDOT"
      },
      "source": [
        "Machine Learning and Deep Learning models require all inputs and outputs to be numerical values; we need to convert categorical features such that they are numerical, so we use the **Encoding One-Hot** technique.\n",
        "\n",
        "In this notebook we use sklearn's OneHotEncoder."
      ]
    },
    {
      "cell_type": "code",
      "execution_count": 31,
      "metadata": {
        "id": "v6cYR2_osgzP",
        "colab": {
          "base_uri": "https://localhost:8080/",
          "height": 367
        },
        "outputId": "2c6a7052-498b-4172-a8e7-f5404eba2509"
      },
      "outputs": [
        {
          "output_type": "execute_result",
          "data": {
            "text/plain": [
              "               year        mileage           mpg    engineSize  \\\n",
              "count  41306.000000   41306.000000  41306.000000  41306.000000   \n",
              "mean    2017.099622   23766.754733     55.634063      1.962366   \n",
              "std        2.247246   22627.617263     20.721036      0.602423   \n",
              "min     1970.000000       1.000000      1.100000      0.000000   \n",
              "25%     2016.000000    6215.500000     45.600000      1.500000   \n",
              "50%     2017.000000   17467.500000     54.300000      2.000000   \n",
              "75%     2019.000000   34221.250000     64.200000      2.100000   \n",
              "max     2020.000000  323000.000000    470.800000      6.600000   \n",
              "\n",
              "       manufacturer_Audi  manufacturer_BMW  manufacturer_Mercedes  \\\n",
              "count       41306.000000      41306.000000           41306.000000   \n",
              "mean            0.258268          0.261003               0.317605   \n",
              "std             0.437687          0.439187               0.465551   \n",
              "min             0.000000          0.000000               0.000000   \n",
              "25%             0.000000          0.000000               0.000000   \n",
              "50%             0.000000          0.000000               0.000000   \n",
              "75%             1.000000          1.000000               1.000000   \n",
              "max             1.000000          1.000000               1.000000   \n",
              "\n",
              "       manufacturer_Toyota  model_ 1 Series  model_ 2 Series  ...  \\\n",
              "count         41306.000000     41306.000000     41306.000000  ...   \n",
              "mean              0.163124         0.047669         0.029754  ...   \n",
              "std               0.369483         0.213067         0.169909  ...   \n",
              "min               0.000000         0.000000         0.000000  ...   \n",
              "25%               0.000000         0.000000         0.000000  ...   \n",
              "50%               0.000000         0.000000         0.000000  ...   \n",
              "75%               0.000000         0.000000         0.000000  ...   \n",
              "max               1.000000         1.000000         1.000000  ...   \n",
              "\n",
              "          model_230  transmission_Automatic  transmission_Manual  \\\n",
              "count  41306.000000            41306.000000         41306.000000   \n",
              "mean       0.000024                0.333559             0.294533   \n",
              "std        0.004920                0.471490             0.455838   \n",
              "min        0.000000                0.000000             0.000000   \n",
              "25%        0.000000                0.000000             0.000000   \n",
              "50%        0.000000                0.000000             0.000000   \n",
              "75%        0.000000                1.000000             1.000000   \n",
              "max        1.000000                1.000000             1.000000   \n",
              "\n",
              "       transmission_Other  transmission_Semi-Auto  fuelType_Diesel  \\\n",
              "count        41306.000000            41306.000000     41306.000000   \n",
              "mean             0.000073                0.371835         0.539728   \n",
              "std              0.008522                0.483300         0.498425   \n",
              "min              0.000000                0.000000         0.000000   \n",
              "25%              0.000000                0.000000         0.000000   \n",
              "50%              0.000000                0.000000         1.000000   \n",
              "75%              0.000000                1.000000         1.000000   \n",
              "max              1.000000                1.000000         1.000000   \n",
              "\n",
              "       fuelType_Electric  fuelType_Hybrid  fuelType_Other  fuelType_Petrol  \n",
              "count       41306.000000     41306.000000    41306.000000     41306.000000  \n",
              "mean            0.000073         0.061541        0.003583         0.395076  \n",
              "std             0.008522         0.240322        0.059752         0.488873  \n",
              "min             0.000000         0.000000        0.000000         0.000000  \n",
              "25%             0.000000         0.000000        0.000000         0.000000  \n",
              "50%             0.000000         0.000000        0.000000         0.000000  \n",
              "75%             0.000000         0.000000        0.000000         1.000000  \n",
              "max             1.000000         1.000000        1.000000         1.000000  \n",
              "\n",
              "[8 rows x 112 columns]"
            ],
            "text/html": [
              "\n",
              "  <div id=\"df-70388429-0e33-49b6-bf06-f49300176f9e\" class=\"colab-df-container\">\n",
              "    <div>\n",
              "<style scoped>\n",
              "    .dataframe tbody tr th:only-of-type {\n",
              "        vertical-align: middle;\n",
              "    }\n",
              "\n",
              "    .dataframe tbody tr th {\n",
              "        vertical-align: top;\n",
              "    }\n",
              "\n",
              "    .dataframe thead th {\n",
              "        text-align: right;\n",
              "    }\n",
              "</style>\n",
              "<table border=\"1\" class=\"dataframe\">\n",
              "  <thead>\n",
              "    <tr style=\"text-align: right;\">\n",
              "      <th></th>\n",
              "      <th>year</th>\n",
              "      <th>mileage</th>\n",
              "      <th>mpg</th>\n",
              "      <th>engineSize</th>\n",
              "      <th>manufacturer_Audi</th>\n",
              "      <th>manufacturer_BMW</th>\n",
              "      <th>manufacturer_Mercedes</th>\n",
              "      <th>manufacturer_Toyota</th>\n",
              "      <th>model_ 1 Series</th>\n",
              "      <th>model_ 2 Series</th>\n",
              "      <th>...</th>\n",
              "      <th>model_230</th>\n",
              "      <th>transmission_Automatic</th>\n",
              "      <th>transmission_Manual</th>\n",
              "      <th>transmission_Other</th>\n",
              "      <th>transmission_Semi-Auto</th>\n",
              "      <th>fuelType_Diesel</th>\n",
              "      <th>fuelType_Electric</th>\n",
              "      <th>fuelType_Hybrid</th>\n",
              "      <th>fuelType_Other</th>\n",
              "      <th>fuelType_Petrol</th>\n",
              "    </tr>\n",
              "  </thead>\n",
              "  <tbody>\n",
              "    <tr>\n",
              "      <th>count</th>\n",
              "      <td>41306.000000</td>\n",
              "      <td>41306.000000</td>\n",
              "      <td>41306.000000</td>\n",
              "      <td>41306.000000</td>\n",
              "      <td>41306.000000</td>\n",
              "      <td>41306.000000</td>\n",
              "      <td>41306.000000</td>\n",
              "      <td>41306.000000</td>\n",
              "      <td>41306.000000</td>\n",
              "      <td>41306.000000</td>\n",
              "      <td>...</td>\n",
              "      <td>41306.000000</td>\n",
              "      <td>41306.000000</td>\n",
              "      <td>41306.000000</td>\n",
              "      <td>41306.000000</td>\n",
              "      <td>41306.000000</td>\n",
              "      <td>41306.000000</td>\n",
              "      <td>41306.000000</td>\n",
              "      <td>41306.000000</td>\n",
              "      <td>41306.000000</td>\n",
              "      <td>41306.000000</td>\n",
              "    </tr>\n",
              "    <tr>\n",
              "      <th>mean</th>\n",
              "      <td>2017.099622</td>\n",
              "      <td>23766.754733</td>\n",
              "      <td>55.634063</td>\n",
              "      <td>1.962366</td>\n",
              "      <td>0.258268</td>\n",
              "      <td>0.261003</td>\n",
              "      <td>0.317605</td>\n",
              "      <td>0.163124</td>\n",
              "      <td>0.047669</td>\n",
              "      <td>0.029754</td>\n",
              "      <td>...</td>\n",
              "      <td>0.000024</td>\n",
              "      <td>0.333559</td>\n",
              "      <td>0.294533</td>\n",
              "      <td>0.000073</td>\n",
              "      <td>0.371835</td>\n",
              "      <td>0.539728</td>\n",
              "      <td>0.000073</td>\n",
              "      <td>0.061541</td>\n",
              "      <td>0.003583</td>\n",
              "      <td>0.395076</td>\n",
              "    </tr>\n",
              "    <tr>\n",
              "      <th>std</th>\n",
              "      <td>2.247246</td>\n",
              "      <td>22627.617263</td>\n",
              "      <td>20.721036</td>\n",
              "      <td>0.602423</td>\n",
              "      <td>0.437687</td>\n",
              "      <td>0.439187</td>\n",
              "      <td>0.465551</td>\n",
              "      <td>0.369483</td>\n",
              "      <td>0.213067</td>\n",
              "      <td>0.169909</td>\n",
              "      <td>...</td>\n",
              "      <td>0.004920</td>\n",
              "      <td>0.471490</td>\n",
              "      <td>0.455838</td>\n",
              "      <td>0.008522</td>\n",
              "      <td>0.483300</td>\n",
              "      <td>0.498425</td>\n",
              "      <td>0.008522</td>\n",
              "      <td>0.240322</td>\n",
              "      <td>0.059752</td>\n",
              "      <td>0.488873</td>\n",
              "    </tr>\n",
              "    <tr>\n",
              "      <th>min</th>\n",
              "      <td>1970.000000</td>\n",
              "      <td>1.000000</td>\n",
              "      <td>1.100000</td>\n",
              "      <td>0.000000</td>\n",
              "      <td>0.000000</td>\n",
              "      <td>0.000000</td>\n",
              "      <td>0.000000</td>\n",
              "      <td>0.000000</td>\n",
              "      <td>0.000000</td>\n",
              "      <td>0.000000</td>\n",
              "      <td>...</td>\n",
              "      <td>0.000000</td>\n",
              "      <td>0.000000</td>\n",
              "      <td>0.000000</td>\n",
              "      <td>0.000000</td>\n",
              "      <td>0.000000</td>\n",
              "      <td>0.000000</td>\n",
              "      <td>0.000000</td>\n",
              "      <td>0.000000</td>\n",
              "      <td>0.000000</td>\n",
              "      <td>0.000000</td>\n",
              "    </tr>\n",
              "    <tr>\n",
              "      <th>25%</th>\n",
              "      <td>2016.000000</td>\n",
              "      <td>6215.500000</td>\n",
              "      <td>45.600000</td>\n",
              "      <td>1.500000</td>\n",
              "      <td>0.000000</td>\n",
              "      <td>0.000000</td>\n",
              "      <td>0.000000</td>\n",
              "      <td>0.000000</td>\n",
              "      <td>0.000000</td>\n",
              "      <td>0.000000</td>\n",
              "      <td>...</td>\n",
              "      <td>0.000000</td>\n",
              "      <td>0.000000</td>\n",
              "      <td>0.000000</td>\n",
              "      <td>0.000000</td>\n",
              "      <td>0.000000</td>\n",
              "      <td>0.000000</td>\n",
              "      <td>0.000000</td>\n",
              "      <td>0.000000</td>\n",
              "      <td>0.000000</td>\n",
              "      <td>0.000000</td>\n",
              "    </tr>\n",
              "    <tr>\n",
              "      <th>50%</th>\n",
              "      <td>2017.000000</td>\n",
              "      <td>17467.500000</td>\n",
              "      <td>54.300000</td>\n",
              "      <td>2.000000</td>\n",
              "      <td>0.000000</td>\n",
              "      <td>0.000000</td>\n",
              "      <td>0.000000</td>\n",
              "      <td>0.000000</td>\n",
              "      <td>0.000000</td>\n",
              "      <td>0.000000</td>\n",
              "      <td>...</td>\n",
              "      <td>0.000000</td>\n",
              "      <td>0.000000</td>\n",
              "      <td>0.000000</td>\n",
              "      <td>0.000000</td>\n",
              "      <td>0.000000</td>\n",
              "      <td>1.000000</td>\n",
              "      <td>0.000000</td>\n",
              "      <td>0.000000</td>\n",
              "      <td>0.000000</td>\n",
              "      <td>0.000000</td>\n",
              "    </tr>\n",
              "    <tr>\n",
              "      <th>75%</th>\n",
              "      <td>2019.000000</td>\n",
              "      <td>34221.250000</td>\n",
              "      <td>64.200000</td>\n",
              "      <td>2.100000</td>\n",
              "      <td>1.000000</td>\n",
              "      <td>1.000000</td>\n",
              "      <td>1.000000</td>\n",
              "      <td>0.000000</td>\n",
              "      <td>0.000000</td>\n",
              "      <td>0.000000</td>\n",
              "      <td>...</td>\n",
              "      <td>0.000000</td>\n",
              "      <td>1.000000</td>\n",
              "      <td>1.000000</td>\n",
              "      <td>0.000000</td>\n",
              "      <td>1.000000</td>\n",
              "      <td>1.000000</td>\n",
              "      <td>0.000000</td>\n",
              "      <td>0.000000</td>\n",
              "      <td>0.000000</td>\n",
              "      <td>1.000000</td>\n",
              "    </tr>\n",
              "    <tr>\n",
              "      <th>max</th>\n",
              "      <td>2020.000000</td>\n",
              "      <td>323000.000000</td>\n",
              "      <td>470.800000</td>\n",
              "      <td>6.600000</td>\n",
              "      <td>1.000000</td>\n",
              "      <td>1.000000</td>\n",
              "      <td>1.000000</td>\n",
              "      <td>1.000000</td>\n",
              "      <td>1.000000</td>\n",
              "      <td>1.000000</td>\n",
              "      <td>...</td>\n",
              "      <td>1.000000</td>\n",
              "      <td>1.000000</td>\n",
              "      <td>1.000000</td>\n",
              "      <td>1.000000</td>\n",
              "      <td>1.000000</td>\n",
              "      <td>1.000000</td>\n",
              "      <td>1.000000</td>\n",
              "      <td>1.000000</td>\n",
              "      <td>1.000000</td>\n",
              "      <td>1.000000</td>\n",
              "    </tr>\n",
              "  </tbody>\n",
              "</table>\n",
              "<p>8 rows × 112 columns</p>\n",
              "</div>\n",
              "    <div class=\"colab-df-buttons\">\n",
              "\n",
              "  <div class=\"colab-df-container\">\n",
              "    <button class=\"colab-df-convert\" onclick=\"convertToInteractive('df-70388429-0e33-49b6-bf06-f49300176f9e')\"\n",
              "            title=\"Convert this dataframe to an interactive table.\"\n",
              "            style=\"display:none;\">\n",
              "\n",
              "  <svg xmlns=\"http://www.w3.org/2000/svg\" height=\"24px\" viewBox=\"0 -960 960 960\">\n",
              "    <path d=\"M120-120v-720h720v720H120Zm60-500h600v-160H180v160Zm220 220h160v-160H400v160Zm0 220h160v-160H400v160ZM180-400h160v-160H180v160Zm440 0h160v-160H620v160ZM180-180h160v-160H180v160Zm440 0h160v-160H620v160Z\"/>\n",
              "  </svg>\n",
              "    </button>\n",
              "\n",
              "  <style>\n",
              "    .colab-df-container {\n",
              "      display:flex;\n",
              "      gap: 12px;\n",
              "    }\n",
              "\n",
              "    .colab-df-convert {\n",
              "      background-color: #E8F0FE;\n",
              "      border: none;\n",
              "      border-radius: 50%;\n",
              "      cursor: pointer;\n",
              "      display: none;\n",
              "      fill: #1967D2;\n",
              "      height: 32px;\n",
              "      padding: 0 0 0 0;\n",
              "      width: 32px;\n",
              "    }\n",
              "\n",
              "    .colab-df-convert:hover {\n",
              "      background-color: #E2EBFA;\n",
              "      box-shadow: 0px 1px 2px rgba(60, 64, 67, 0.3), 0px 1px 3px 1px rgba(60, 64, 67, 0.15);\n",
              "      fill: #174EA6;\n",
              "    }\n",
              "\n",
              "    .colab-df-buttons div {\n",
              "      margin-bottom: 4px;\n",
              "    }\n",
              "\n",
              "    [theme=dark] .colab-df-convert {\n",
              "      background-color: #3B4455;\n",
              "      fill: #D2E3FC;\n",
              "    }\n",
              "\n",
              "    [theme=dark] .colab-df-convert:hover {\n",
              "      background-color: #434B5C;\n",
              "      box-shadow: 0px 1px 3px 1px rgba(0, 0, 0, 0.15);\n",
              "      filter: drop-shadow(0px 1px 2px rgba(0, 0, 0, 0.3));\n",
              "      fill: #FFFFFF;\n",
              "    }\n",
              "  </style>\n",
              "\n",
              "    <script>\n",
              "      const buttonEl =\n",
              "        document.querySelector('#df-70388429-0e33-49b6-bf06-f49300176f9e button.colab-df-convert');\n",
              "      buttonEl.style.display =\n",
              "        google.colab.kernel.accessAllowed ? 'block' : 'none';\n",
              "\n",
              "      async function convertToInteractive(key) {\n",
              "        const element = document.querySelector('#df-70388429-0e33-49b6-bf06-f49300176f9e');\n",
              "        const dataTable =\n",
              "          await google.colab.kernel.invokeFunction('convertToInteractive',\n",
              "                                                    [key], {});\n",
              "        if (!dataTable) return;\n",
              "\n",
              "        const docLinkHtml = 'Like what you see? Visit the ' +\n",
              "          '<a target=\"_blank\" href=https://colab.research.google.com/notebooks/data_table.ipynb>data table notebook</a>'\n",
              "          + ' to learn more about interactive tables.';\n",
              "        element.innerHTML = '';\n",
              "        dataTable['output_type'] = 'display_data';\n",
              "        await google.colab.output.renderOutput(dataTable, element);\n",
              "        const docLink = document.createElement('div');\n",
              "        docLink.innerHTML = docLinkHtml;\n",
              "        element.appendChild(docLink);\n",
              "      }\n",
              "    </script>\n",
              "  </div>\n",
              "\n",
              "\n",
              "<div id=\"df-a7f27cb2-536b-4ff3-bb61-280d8aba4fc4\">\n",
              "  <button class=\"colab-df-quickchart\" onclick=\"quickchart('df-a7f27cb2-536b-4ff3-bb61-280d8aba4fc4')\"\n",
              "            title=\"Suggest charts\"\n",
              "            style=\"display:none;\">\n",
              "\n",
              "<svg xmlns=\"http://www.w3.org/2000/svg\" height=\"24px\"viewBox=\"0 0 24 24\"\n",
              "     width=\"24px\">\n",
              "    <g>\n",
              "        <path d=\"M19 3H5c-1.1 0-2 .9-2 2v14c0 1.1.9 2 2 2h14c1.1 0 2-.9 2-2V5c0-1.1-.9-2-2-2zM9 17H7v-7h2v7zm4 0h-2V7h2v10zm4 0h-2v-4h2v4z\"/>\n",
              "    </g>\n",
              "</svg>\n",
              "  </button>\n",
              "\n",
              "<style>\n",
              "  .colab-df-quickchart {\n",
              "      --bg-color: #E8F0FE;\n",
              "      --fill-color: #1967D2;\n",
              "      --hover-bg-color: #E2EBFA;\n",
              "      --hover-fill-color: #174EA6;\n",
              "      --disabled-fill-color: #AAA;\n",
              "      --disabled-bg-color: #DDD;\n",
              "  }\n",
              "\n",
              "  [theme=dark] .colab-df-quickchart {\n",
              "      --bg-color: #3B4455;\n",
              "      --fill-color: #D2E3FC;\n",
              "      --hover-bg-color: #434B5C;\n",
              "      --hover-fill-color: #FFFFFF;\n",
              "      --disabled-bg-color: #3B4455;\n",
              "      --disabled-fill-color: #666;\n",
              "  }\n",
              "\n",
              "  .colab-df-quickchart {\n",
              "    background-color: var(--bg-color);\n",
              "    border: none;\n",
              "    border-radius: 50%;\n",
              "    cursor: pointer;\n",
              "    display: none;\n",
              "    fill: var(--fill-color);\n",
              "    height: 32px;\n",
              "    padding: 0;\n",
              "    width: 32px;\n",
              "  }\n",
              "\n",
              "  .colab-df-quickchart:hover {\n",
              "    background-color: var(--hover-bg-color);\n",
              "    box-shadow: 0 1px 2px rgba(60, 64, 67, 0.3), 0 1px 3px 1px rgba(60, 64, 67, 0.15);\n",
              "    fill: var(--button-hover-fill-color);\n",
              "  }\n",
              "\n",
              "  .colab-df-quickchart-complete:disabled,\n",
              "  .colab-df-quickchart-complete:disabled:hover {\n",
              "    background-color: var(--disabled-bg-color);\n",
              "    fill: var(--disabled-fill-color);\n",
              "    box-shadow: none;\n",
              "  }\n",
              "\n",
              "  .colab-df-spinner {\n",
              "    border: 2px solid var(--fill-color);\n",
              "    border-color: transparent;\n",
              "    border-bottom-color: var(--fill-color);\n",
              "    animation:\n",
              "      spin 1s steps(1) infinite;\n",
              "  }\n",
              "\n",
              "  @keyframes spin {\n",
              "    0% {\n",
              "      border-color: transparent;\n",
              "      border-bottom-color: var(--fill-color);\n",
              "      border-left-color: var(--fill-color);\n",
              "    }\n",
              "    20% {\n",
              "      border-color: transparent;\n",
              "      border-left-color: var(--fill-color);\n",
              "      border-top-color: var(--fill-color);\n",
              "    }\n",
              "    30% {\n",
              "      border-color: transparent;\n",
              "      border-left-color: var(--fill-color);\n",
              "      border-top-color: var(--fill-color);\n",
              "      border-right-color: var(--fill-color);\n",
              "    }\n",
              "    40% {\n",
              "      border-color: transparent;\n",
              "      border-right-color: var(--fill-color);\n",
              "      border-top-color: var(--fill-color);\n",
              "    }\n",
              "    60% {\n",
              "      border-color: transparent;\n",
              "      border-right-color: var(--fill-color);\n",
              "    }\n",
              "    80% {\n",
              "      border-color: transparent;\n",
              "      border-right-color: var(--fill-color);\n",
              "      border-bottom-color: var(--fill-color);\n",
              "    }\n",
              "    90% {\n",
              "      border-color: transparent;\n",
              "      border-bottom-color: var(--fill-color);\n",
              "    }\n",
              "  }\n",
              "</style>\n",
              "\n",
              "  <script>\n",
              "    async function quickchart(key) {\n",
              "      const quickchartButtonEl =\n",
              "        document.querySelector('#' + key + ' button');\n",
              "      quickchartButtonEl.disabled = true;  // To prevent multiple clicks.\n",
              "      quickchartButtonEl.classList.add('colab-df-spinner');\n",
              "      try {\n",
              "        const charts = await google.colab.kernel.invokeFunction(\n",
              "            'suggestCharts', [key], {});\n",
              "      } catch (error) {\n",
              "        console.error('Error during call to suggestCharts:', error);\n",
              "      }\n",
              "      quickchartButtonEl.classList.remove('colab-df-spinner');\n",
              "      quickchartButtonEl.classList.add('colab-df-quickchart-complete');\n",
              "    }\n",
              "    (() => {\n",
              "      let quickchartButtonEl =\n",
              "        document.querySelector('#df-a7f27cb2-536b-4ff3-bb61-280d8aba4fc4 button');\n",
              "      quickchartButtonEl.style.display =\n",
              "        google.colab.kernel.accessAllowed ? 'block' : 'none';\n",
              "    })();\n",
              "  </script>\n",
              "</div>\n",
              "\n",
              "    </div>\n",
              "  </div>\n"
            ],
            "application/vnd.google.colaboratory.intrinsic+json": {
              "type": "dataframe"
            }
          },
          "metadata": {},
          "execution_count": 31
        }
      ],
      "source": [
        "#Dataset with only categorical values\n",
        "categorical_dataset = dataset[categorical_features]\n",
        "\n",
        "#Inizialize the encoder\n",
        "encoder = OneHotEncoder(handle_unknown = 'ignore', sparse = False)\n",
        "\n",
        "#Transformation of categorical features\n",
        "dataset_encoded = pd.DataFrame(encoder.fit_transform(categorical_dataset),\n",
        "                               columns = encoder.get_feature_names_out(categorical_features))\n",
        "\n",
        "#Update the dataset\n",
        "dataset = pd.concat([dataset.drop(categorical_features, axis = 1), dataset_encoded], axis = 1)\n",
        "\n",
        "dataset.describe()"
      ]
    },
    {
      "cell_type": "markdown",
      "metadata": {
        "id": "uAGQw-vO1EFw"
      },
      "source": [
        "Now we move on to the dataset splitting phase. To avoid data leakege problems and ensure accurate evaluation of model performance, we first split the data and then continue preprocessing on the training and traninig sets so that we have zero mean and unit variance."
      ]
    },
    {
      "cell_type": "code",
      "execution_count": 32,
      "metadata": {
        "colab": {
          "base_uri": "https://localhost:8080/"
        },
        "id": "qW2YX06w3RmF",
        "outputId": "31e0048c-aacc-4bef-e18a-6ab912c2ca3c"
      },
      "outputs": [
        {
          "output_type": "stream",
          "name": "stdout",
          "text": [
            "Train Size:  26435\n",
            "Validation Size:  6609\n",
            "Test Size: 8262\n"
          ]
        }
      ],
      "source": [
        "dataset = dataset.iloc[:, :-1].values\n",
        "prices = data.iloc[:, -1].values\n",
        "\n",
        "#Split dataset in traning set and testing set\n",
        "dataset_train, dataset_test, prices_train, prices_test = train_test_split(dataset,\n",
        "                                                                          prices,\n",
        "                                                                          test_size = 0.2,\n",
        "                                                                          random_state = 0)\n",
        "\n",
        "#Split training set in training and validation sets\n",
        "dataset_training, dataset_validation, prices_training, prices_validation = train_test_split(dataset_train,\n",
        "                                                                                            prices_train,\n",
        "                                                                                            test_size = 0.2,\n",
        "                                                                                            random_state = 0)\n",
        "\n",
        "scaler = StandardScaler()\n",
        "\n",
        "#Standardize data to zero mean and unit variance\n",
        "dataset_training_scaled = scaler.fit_transform(dataset_training)\n",
        "dataset_validation_scaled = scaler.transform(dataset_validation)\n",
        "dataset_test_scaled = scaler.transform(dataset_test)\n",
        "\n",
        "print(\"Train Size: \", len(dataset_training_scaled))\n",
        "print(\"Validation Size: \", len(dataset_validation_scaled))\n",
        "print(\"Test Size:\", len(dataset_test_scaled))"
      ]
    },
    {
      "cell_type": "markdown",
      "metadata": {
        "id": "LqQiIqn-883a"
      },
      "source": [
        "## **Neural Network**\n",
        "\n",
        "The **first model** we are going to consider is a neural network.\n",
        "\n",
        "Multiple versions were considered for the choice of hypermeters, including one version using Keras Tuner.\n",
        "\n",
        "The hyperparameters to be determined are:\n",
        "* **Weght Inizializer**;\n",
        "* **Number of Layers**;\n",
        "* **Number of Units in each Layer**;\n",
        "* **Learning Rate**."
      ]
    },
    {
      "cell_type": "markdown",
      "source": [
        "Let's begin with the first NN model."
      ],
      "metadata": {
        "id": "_UafVzvRqb--"
      }
    },
    {
      "cell_type": "code",
      "source": [
        "#Defined number of units per layer\n",
        "number_of_layers = 3\n",
        "units_per_layer = [50, 100, 50]\n",
        "\n",
        "#Defined Learing Rate\n",
        "learning_rate = 0.001\n",
        "\n",
        "#Defined Weight Inizializer\n",
        "initializer = HeNormal()\n",
        "\n",
        "#Create Sequential Model\n",
        "first_model = Sequential()\n",
        "\n",
        "first_model.add(Dense(112, activation = 'relu'))\n",
        "\n",
        "#Add level to model\n",
        "for units in units_per_layer:\n",
        "  first_model.add(Dense(units,\n",
        "                        activation = 'relu',\n",
        "                        kernel_initializer = initializer))\n",
        "\n",
        "\n",
        "first_model.add(Dense(1, activation = 'relu'))\n",
        "optimizer = Adam(learning_rate = learning_rate)\n",
        "first_model.compile(optimizer = optimizer, loss = 'mean_squared_error', metrics = ['mean_absolute_error'])\n",
        "first_model.build(input_shape = (None, 111))\n"
      ],
      "metadata": {
        "id": "YUFF13mxFxGX"
      },
      "execution_count": 33,
      "outputs": []
    },
    {
      "cell_type": "code",
      "source": [
        "first_model.summary()"
      ],
      "metadata": {
        "colab": {
          "base_uri": "https://localhost:8080/"
        },
        "id": "6ao9cuUhRT5w",
        "outputId": "7efe3997-a318-46b7-eb2b-4a9e47eec5d5"
      },
      "execution_count": 34,
      "outputs": [
        {
          "output_type": "stream",
          "name": "stdout",
          "text": [
            "Model: \"sequential_2\"\n",
            "_________________________________________________________________\n",
            " Layer (type)                Output Shape              Param #   \n",
            "=================================================================\n",
            " dense_9 (Dense)             (None, 112)               12544     \n",
            "                                                                 \n",
            " dense_10 (Dense)            (None, 50)                5650      \n",
            "                                                                 \n",
            " dense_11 (Dense)            (None, 100)               5100      \n",
            "                                                                 \n",
            " dense_12 (Dense)            (None, 50)                5050      \n",
            "                                                                 \n",
            " dense_13 (Dense)            (None, 1)                 51        \n",
            "                                                                 \n",
            "=================================================================\n",
            "Total params: 28395 (110.92 KB)\n",
            "Trainable params: 28395 (110.92 KB)\n",
            "Non-trainable params: 0 (0.00 Byte)\n",
            "_________________________________________________________________\n"
          ]
        }
      ]
    },
    {
      "cell_type": "code",
      "source": [
        "early_stopping = EarlyStopping(monitor = 'val_loss', patience = 10, restore_best_weights = True)"
      ],
      "metadata": {
        "id": "lXzSb3k4VC00"
      },
      "execution_count": 35,
      "outputs": []
    },
    {
      "cell_type": "markdown",
      "source": [
        "Let's training the model with early stopping and validation set"
      ],
      "metadata": {
        "id": "EbTOc0a2oflq"
      }
    },
    {
      "cell_type": "code",
      "source": [
        "history = first_model.fit(dataset_training_scaled,\n",
        "                prices_training,\n",
        "                epochs = 300,\n",
        "                batch_size = 32,\n",
        "                validation_data = (dataset_validation_scaled, prices_validation),\n",
        "                callbacks = [early_stopping])"
      ],
      "metadata": {
        "colab": {
          "base_uri": "https://localhost:8080/"
        },
        "id": "eltu8HMWVAvb",
        "outputId": "ba14d408-9058-4cfa-d7b7-813be61955a0"
      },
      "execution_count": 36,
      "outputs": [
        {
          "output_type": "stream",
          "name": "stdout",
          "text": [
            "Epoch 1/300\n",
            "827/827 [==============================] - 4s 3ms/step - loss: 100799760.0000 - mean_absolute_error: 5293.6646 - val_loss: 19993044.0000 - val_mean_absolute_error: 2389.6819\n",
            "Epoch 2/300\n",
            "827/827 [==============================] - 3s 4ms/step - loss: 16433522.0000 - mean_absolute_error: 2311.2864 - val_loss: 16499799.0000 - val_mean_absolute_error: 2228.8982\n",
            "Epoch 3/300\n",
            "827/827 [==============================] - 4s 5ms/step - loss: 13396998.0000 - mean_absolute_error: 2168.3503 - val_loss: 15731506.0000 - val_mean_absolute_error: 2162.6909\n",
            "Epoch 4/300\n",
            "827/827 [==============================] - 3s 3ms/step - loss: 12491196.0000 - mean_absolute_error: 2092.2947 - val_loss: 15011158.0000 - val_mean_absolute_error: 2110.2637\n",
            "Epoch 5/300\n",
            "827/827 [==============================] - 3s 3ms/step - loss: 11731439.0000 - mean_absolute_error: 2033.1879 - val_loss: 14259116.0000 - val_mean_absolute_error: 2029.7554\n",
            "Epoch 6/300\n",
            "827/827 [==============================] - 3s 4ms/step - loss: 11349842.0000 - mean_absolute_error: 2014.8569 - val_loss: 13545018.0000 - val_mean_absolute_error: 2027.9242\n",
            "Epoch 7/300\n",
            "827/827 [==============================] - 4s 5ms/step - loss: 10997950.0000 - mean_absolute_error: 1980.2850 - val_loss: 13628793.0000 - val_mean_absolute_error: 2008.0273\n",
            "Epoch 8/300\n",
            "827/827 [==============================] - 4s 5ms/step - loss: 10703687.0000 - mean_absolute_error: 1955.6682 - val_loss: 13386345.0000 - val_mean_absolute_error: 2073.3674\n",
            "Epoch 9/300\n",
            "827/827 [==============================] - 2s 3ms/step - loss: 10452842.0000 - mean_absolute_error: 1935.2855 - val_loss: 12789074.0000 - val_mean_absolute_error: 1943.2902\n",
            "Epoch 10/300\n",
            "827/827 [==============================] - 2s 3ms/step - loss: 10207965.0000 - mean_absolute_error: 1919.4827 - val_loss: 12308332.0000 - val_mean_absolute_error: 1930.2599\n",
            "Epoch 11/300\n",
            "827/827 [==============================] - 2s 3ms/step - loss: 10034047.0000 - mean_absolute_error: 1903.4156 - val_loss: 12584960.0000 - val_mean_absolute_error: 1951.5317\n",
            "Epoch 12/300\n",
            "827/827 [==============================] - 4s 5ms/step - loss: 9978916.0000 - mean_absolute_error: 1895.3412 - val_loss: 12243895.0000 - val_mean_absolute_error: 1965.4854\n",
            "Epoch 13/300\n",
            "827/827 [==============================] - 4s 5ms/step - loss: 9676165.0000 - mean_absolute_error: 1872.9595 - val_loss: 12170664.0000 - val_mean_absolute_error: 1982.6852\n",
            "Epoch 14/300\n",
            "827/827 [==============================] - 3s 3ms/step - loss: 9522152.0000 - mean_absolute_error: 1867.8435 - val_loss: 12198276.0000 - val_mean_absolute_error: 1994.7906\n",
            "Epoch 15/300\n",
            "827/827 [==============================] - 2s 3ms/step - loss: 9555741.0000 - mean_absolute_error: 1868.7180 - val_loss: 11232900.0000 - val_mean_absolute_error: 1887.2847\n",
            "Epoch 16/300\n",
            "827/827 [==============================] - 3s 3ms/step - loss: 9201607.0000 - mean_absolute_error: 1841.2369 - val_loss: 11424724.0000 - val_mean_absolute_error: 1884.7267\n",
            "Epoch 17/300\n",
            "827/827 [==============================] - 3s 4ms/step - loss: 9320408.0000 - mean_absolute_error: 1845.5947 - val_loss: 11838811.0000 - val_mean_absolute_error: 1958.0923\n",
            "Epoch 18/300\n",
            "827/827 [==============================] - 4s 5ms/step - loss: 9141497.0000 - mean_absolute_error: 1832.8330 - val_loss: 11193501.0000 - val_mean_absolute_error: 1859.7279\n",
            "Epoch 19/300\n",
            "827/827 [==============================] - 3s 3ms/step - loss: 9040921.0000 - mean_absolute_error: 1826.7395 - val_loss: 11030707.0000 - val_mean_absolute_error: 1848.7240\n",
            "Epoch 20/300\n",
            "827/827 [==============================] - 3s 3ms/step - loss: 8968519.0000 - mean_absolute_error: 1822.5291 - val_loss: 10862088.0000 - val_mean_absolute_error: 1837.2815\n",
            "Epoch 21/300\n",
            "827/827 [==============================] - 3s 3ms/step - loss: 8906491.0000 - mean_absolute_error: 1814.0376 - val_loss: 10637996.0000 - val_mean_absolute_error: 1839.3529\n",
            "Epoch 22/300\n",
            "827/827 [==============================] - 3s 4ms/step - loss: 8594697.0000 - mean_absolute_error: 1801.8401 - val_loss: 10413916.0000 - val_mean_absolute_error: 1811.4114\n",
            "Epoch 23/300\n",
            "827/827 [==============================] - 4s 5ms/step - loss: 8639786.0000 - mean_absolute_error: 1800.6102 - val_loss: 10243174.0000 - val_mean_absolute_error: 1804.8864\n",
            "Epoch 24/300\n",
            "827/827 [==============================] - 3s 3ms/step - loss: 8330764.0000 - mean_absolute_error: 1787.4524 - val_loss: 10254166.0000 - val_mean_absolute_error: 1813.7517\n",
            "Epoch 25/300\n",
            "827/827 [==============================] - 3s 3ms/step - loss: 8246987.5000 - mean_absolute_error: 1772.1567 - val_loss: 9818444.0000 - val_mean_absolute_error: 1806.1648\n",
            "Epoch 26/300\n",
            "827/827 [==============================] - 3s 3ms/step - loss: 8108554.5000 - mean_absolute_error: 1776.3141 - val_loss: 9975899.0000 - val_mean_absolute_error: 1778.3354\n",
            "Epoch 27/300\n",
            "827/827 [==============================] - 3s 4ms/step - loss: 8001616.5000 - mean_absolute_error: 1759.3319 - val_loss: 10365960.0000 - val_mean_absolute_error: 1792.0493\n",
            "Epoch 28/300\n",
            "827/827 [==============================] - 4s 5ms/step - loss: 7950258.0000 - mean_absolute_error: 1758.9181 - val_loss: 9746835.0000 - val_mean_absolute_error: 1790.3624\n",
            "Epoch 29/300\n",
            "827/827 [==============================] - 3s 3ms/step - loss: 7833794.0000 - mean_absolute_error: 1751.5431 - val_loss: 9517649.0000 - val_mean_absolute_error: 1787.0879\n",
            "Epoch 30/300\n",
            "827/827 [==============================] - 3s 3ms/step - loss: 7634441.5000 - mean_absolute_error: 1738.9124 - val_loss: 9366674.0000 - val_mean_absolute_error: 1803.7725\n",
            "Epoch 31/300\n",
            "827/827 [==============================] - 3s 3ms/step - loss: 7743216.5000 - mean_absolute_error: 1738.8151 - val_loss: 8945530.0000 - val_mean_absolute_error: 1753.3506\n",
            "Epoch 32/300\n",
            "827/827 [==============================] - 3s 4ms/step - loss: 7471062.0000 - mean_absolute_error: 1716.8177 - val_loss: 9388218.0000 - val_mean_absolute_error: 1815.9768\n",
            "Epoch 33/300\n",
            "827/827 [==============================] - 4s 5ms/step - loss: 7471625.0000 - mean_absolute_error: 1718.4661 - val_loss: 9252639.0000 - val_mean_absolute_error: 1759.5111\n",
            "Epoch 34/300\n",
            "827/827 [==============================] - 6s 7ms/step - loss: 7323639.5000 - mean_absolute_error: 1713.9434 - val_loss: 9107141.0000 - val_mean_absolute_error: 1785.3826\n",
            "Epoch 35/300\n",
            "827/827 [==============================] - 3s 3ms/step - loss: 7403203.0000 - mean_absolute_error: 1710.2837 - val_loss: 8783248.0000 - val_mean_absolute_error: 1710.0555\n",
            "Epoch 36/300\n",
            "827/827 [==============================] - 4s 5ms/step - loss: 7237386.5000 - mean_absolute_error: 1703.7866 - val_loss: 8770538.0000 - val_mean_absolute_error: 1755.1594\n",
            "Epoch 37/300\n",
            "827/827 [==============================] - 3s 3ms/step - loss: 7165345.0000 - mean_absolute_error: 1696.6573 - val_loss: 8678926.0000 - val_mean_absolute_error: 1737.6392\n",
            "Epoch 38/300\n",
            "827/827 [==============================] - 2s 3ms/step - loss: 7161503.5000 - mean_absolute_error: 1693.5400 - val_loss: 8836564.0000 - val_mean_absolute_error: 1729.9111\n",
            "Epoch 39/300\n",
            "827/827 [==============================] - 3s 4ms/step - loss: 7031281.5000 - mean_absolute_error: 1686.5417 - val_loss: 8749914.0000 - val_mean_absolute_error: 1757.0878\n",
            "Epoch 40/300\n",
            "827/827 [==============================] - 3s 4ms/step - loss: 7116671.0000 - mean_absolute_error: 1689.0017 - val_loss: 8602177.0000 - val_mean_absolute_error: 1711.4098\n",
            "Epoch 41/300\n",
            "827/827 [==============================] - 4s 5ms/step - loss: 7032160.5000 - mean_absolute_error: 1683.6733 - val_loss: 8575965.0000 - val_mean_absolute_error: 1710.3035\n",
            "Epoch 42/300\n",
            "827/827 [==============================] - 3s 4ms/step - loss: 7094262.5000 - mean_absolute_error: 1676.0872 - val_loss: 8999681.0000 - val_mean_absolute_error: 1818.4680\n",
            "Epoch 43/300\n",
            "827/827 [==============================] - 3s 3ms/step - loss: 6925415.5000 - mean_absolute_error: 1672.7454 - val_loss: 8812448.0000 - val_mean_absolute_error: 1714.5225\n",
            "Epoch 44/300\n",
            "827/827 [==============================] - 3s 4ms/step - loss: 7059852.5000 - mean_absolute_error: 1682.2968 - val_loss: 8740237.0000 - val_mean_absolute_error: 1722.3643\n",
            "Epoch 45/300\n",
            "827/827 [==============================] - 4s 5ms/step - loss: 6837238.0000 - mean_absolute_error: 1665.4299 - val_loss: 8832608.0000 - val_mean_absolute_error: 1715.7545\n",
            "Epoch 46/300\n",
            "827/827 [==============================] - 4s 5ms/step - loss: 6909907.0000 - mean_absolute_error: 1669.3070 - val_loss: 8173894.5000 - val_mean_absolute_error: 1679.9149\n",
            "Epoch 47/300\n",
            "827/827 [==============================] - 3s 3ms/step - loss: 6756562.0000 - mean_absolute_error: 1657.3073 - val_loss: 8540425.0000 - val_mean_absolute_error: 1703.6887\n",
            "Epoch 48/300\n",
            "827/827 [==============================] - 3s 3ms/step - loss: 6701557.5000 - mean_absolute_error: 1653.1835 - val_loss: 8757219.0000 - val_mean_absolute_error: 1716.4673\n",
            "Epoch 49/300\n",
            "827/827 [==============================] - 3s 3ms/step - loss: 6851460.5000 - mean_absolute_error: 1664.7218 - val_loss: 8697828.0000 - val_mean_absolute_error: 1753.7067\n",
            "Epoch 50/300\n",
            "827/827 [==============================] - 3s 4ms/step - loss: 6806353.0000 - mean_absolute_error: 1661.8356 - val_loss: 8735768.0000 - val_mean_absolute_error: 1795.6198\n",
            "Epoch 51/300\n",
            "827/827 [==============================] - 4s 5ms/step - loss: 6743643.0000 - mean_absolute_error: 1653.1451 - val_loss: 8515740.0000 - val_mean_absolute_error: 1693.4153\n",
            "Epoch 52/300\n",
            "827/827 [==============================] - 2s 3ms/step - loss: 6824913.0000 - mean_absolute_error: 1658.6462 - val_loss: 8598724.0000 - val_mean_absolute_error: 1717.3091\n",
            "Epoch 53/300\n",
            "827/827 [==============================] - 3s 3ms/step - loss: 6716773.0000 - mean_absolute_error: 1643.9875 - val_loss: 8264613.0000 - val_mean_absolute_error: 1686.1295\n",
            "Epoch 54/300\n",
            "827/827 [==============================] - 3s 4ms/step - loss: 6701310.0000 - mean_absolute_error: 1644.8038 - val_loss: 8164091.0000 - val_mean_absolute_error: 1683.3988\n",
            "Epoch 55/300\n",
            "827/827 [==============================] - 5s 6ms/step - loss: 6739274.5000 - mean_absolute_error: 1650.0709 - val_loss: 8274301.0000 - val_mean_absolute_error: 1716.8324\n",
            "Epoch 56/300\n",
            "827/827 [==============================] - 6s 7ms/step - loss: 6616094.0000 - mean_absolute_error: 1636.8427 - val_loss: 9525846.0000 - val_mean_absolute_error: 1856.9957\n",
            "Epoch 57/300\n",
            "827/827 [==============================] - 3s 4ms/step - loss: 6581291.5000 - mean_absolute_error: 1639.0326 - val_loss: 8184563.0000 - val_mean_absolute_error: 1695.9355\n",
            "Epoch 58/300\n",
            "827/827 [==============================] - 3s 4ms/step - loss: 6678556.5000 - mean_absolute_error: 1649.1135 - val_loss: 8401891.0000 - val_mean_absolute_error: 1716.0872\n",
            "Epoch 59/300\n",
            "827/827 [==============================] - 3s 4ms/step - loss: 6500622.5000 - mean_absolute_error: 1628.4351 - val_loss: 8541659.0000 - val_mean_absolute_error: 1707.4414\n",
            "Epoch 60/300\n",
            "827/827 [==============================] - 5s 5ms/step - loss: 6541256.5000 - mean_absolute_error: 1631.1758 - val_loss: 8197638.0000 - val_mean_absolute_error: 1704.0535\n",
            "Epoch 61/300\n",
            "827/827 [==============================] - 3s 3ms/step - loss: 6515569.0000 - mean_absolute_error: 1632.9192 - val_loss: 8680820.0000 - val_mean_absolute_error: 1772.3660\n",
            "Epoch 62/300\n",
            "827/827 [==============================] - 3s 3ms/step - loss: 6533180.5000 - mean_absolute_error: 1635.6885 - val_loss: 8682851.0000 - val_mean_absolute_error: 1724.3348\n",
            "Epoch 63/300\n",
            "827/827 [==============================] - 3s 3ms/step - loss: 6541351.0000 - mean_absolute_error: 1626.2415 - val_loss: 8327339.5000 - val_mean_absolute_error: 1695.9800\n",
            "Epoch 64/300\n",
            "827/827 [==============================] - 3s 4ms/step - loss: 6522066.0000 - mean_absolute_error: 1631.4166 - val_loss: 8590854.0000 - val_mean_absolute_error: 1690.3621\n"
          ]
        }
      ]
    },
    {
      "cell_type": "code",
      "source": [
        "plot_metrics(history)"
      ],
      "metadata": {
        "colab": {
          "base_uri": "https://localhost:8080/",
          "height": 487
        },
        "id": "7_a15WFzVhKH",
        "outputId": "4f9d8466-7d76-4860-e246-a4cfef746b77"
      },
      "execution_count": 37,
      "outputs": [
        {
          "output_type": "display_data",
          "data": {
            "text/plain": [
              "<Figure size 1400x500 with 2 Axes>"
            ],
            "image/png": "[encoded data removed]"
          },
          "metadata": {}
        }
      ]
    },
    {
      "cell_type": "markdown",
      "source": [
        "Let's test the neural network on the testing set."
      ],
      "metadata": {
        "id": "oAHZHLS-bfI6"
      }
    },
    {
      "cell_type": "code",
      "source": [
        "first_model_mea = evaluate_performance(first_model, dataset_test_scaled, prices_test)\n",
        "print(f'First Model MEA: {first_model_mea}')"
      ],
      "metadata": {
        "colab": {
          "base_uri": "https://localhost:8080/"
        },
        "id": "yWvVYqjElgn4",
        "outputId": "8235e34c-8393-4a9a-adfc-6315e33df446"
      },
      "execution_count": 58,
      "outputs": [
        {
          "output_type": "stream",
          "name": "stdout",
          "text": [
            "First Model MEA: 1689.609130859375\n"
          ]
        }
      ]
    },
    {
      "cell_type": "code",
      "source": [
        "first_model_predictions = first_model.predict(dataset_test_scaled).flatten()\n",
        "\n",
        "first_model_mea = mean_absolute_error(prices_test.flatten(), first_model_predictions)\n",
        "print(f'MEA on test set for the first model: {first_model_mea}')"
      ],
      "metadata": {
        "colab": {
          "base_uri": "https://localhost:8080/"
        },
        "id": "PTIwLsr57kse",
        "outputId": "da096285-185e-46ed-a12b-f1869880d941"
      },
      "execution_count": 60,
      "outputs": [
        {
          "output_type": "stream",
          "name": "stdout",
          "text": [
            "259/259 [==============================] - 0s 2ms/step\n",
            "MEA on test set for the first model: 1689.6088663072107\n"
          ]
        }
      ]
    },
    {
      "cell_type": "markdown",
      "source": [
        "**Result**\n",
        "\n",
        "The mean absolute error on testing set is about 1690$ on first model of NN.To visualize the performance, we can use a scatter plot."
      ],
      "metadata": {
        "id": "mQH6VCSY_Zzm"
      }
    },
    {
      "cell_type": "code",
      "source": [
        "plt.scatter(prices_test, first_model_predictions, color='blue', label='Real vs Predicted')\n",
        "\n",
        "plt.xlabel('Real Values')\n",
        "plt.ylabel('First Model Predictions')\n",
        "plt.title('Scatter Plot')\n",
        "\n",
        "x_bisector = np.linspace(min(first_model_predictions), max(first_model_predictions), 100)\n",
        "y_bisector = x_bisector\n",
        "plt.plot(x_bisector, y_bisector, color='red', linestyle='--', label='First Quadrant Bisector')\n",
        "\n",
        "plt.legend()\n",
        "\n",
        "plt.show()"
      ],
      "metadata": {
        "colab": {
          "base_uri": "https://localhost:8080/",
          "height": 472
        },
        "id": "B0UErbKk_THx",
        "outputId": "f51c5964-7fb0-414f-9fd6-75620a07b58c"
      },
      "execution_count": 61,
      "outputs": [
        {
          "output_type": "display_data",
          "data": {
            "text/plain": [
              "<Figure size 640x480 with 1 Axes>"
            ],
            "image/png": "[encoded data removed]"
          },
          "metadata": {}
        }
      ]
    },
    {
      "cell_type": "markdown",
      "source": [
        "We can see that the predictions oscillate around the bisector, this is a sign of good performance on average of the model.\n",
        "\n",
        "For completeness, we plot the error of the predicitons."
      ],
      "metadata": {
        "id": "2Y4WOidrAUbU"
      }
    },
    {
      "cell_type": "code",
      "source": [
        "residuals = np.abs(prices_test - first_model_predictions.flatten())\n",
        "residuals = np.array(residuals)\n",
        "nn_predictions = np.array(first_model_predictions)\n",
        "\n",
        "plt.scatter(first_model_predictions, residuals, color = 'red', label = 'Residual Errors vs. Predictions')\n",
        "plt.axhline(0, color = 'black', linestyle='--', linewidth=1)\n",
        "\n",
        "plt.xlabel('NN Prediction')\n",
        "plt.ylabel('Residual Error')\n",
        "plt.title('Residual Errors vs. Predictions')\n",
        "plt.legend()\n",
        "\n",
        "plt.show()"
      ],
      "metadata": {
        "colab": {
          "base_uri": "https://localhost:8080/",
          "height": 472
        },
        "id": "Z_mqZ15MAJFO",
        "outputId": "3f5bb509-120e-4293-b18e-a2b0544e7194"
      },
      "execution_count": 62,
      "outputs": [
        {
          "output_type": "display_data",
          "data": {
            "text/plain": [
              "<Figure size 640x480 with 1 Axes>"
            ],
            "image/png": "[encoded data removed]"
          },
          "metadata": {}
        }
      ]
    },
    {
      "cell_type": "markdown",
      "source": [
        "The graph shows that most of the points are well classified although there are some outliers."
      ],
      "metadata": {
        "id": "wdStnhidBVcL"
      }
    },
    {
      "cell_type": "markdown",
      "source": [
        "Now let us consider other metrics for evaluating the considered model:\n",
        "* **Root Mean Squared Error (RMSE)**:\n",
        "* **R-squared (R²) or Coefficient of Determination**\n",
        "* **Explained Variance Score**"
      ],
      "metadata": {
        "id": "cz5j6Fc4CU8H"
      }
    },
    {
      "cell_type": "code",
      "source": [
        "from sklearn.metrics import mean_squared_error, r2_score, explained_variance_score\n",
        "\n",
        "first_model_rmse = np.sqrt(mean_squared_error(y_true = prices_test, y_pred = first_model_predictions))\n",
        "first_model_r2 = r2_score(y_true = prices_test, y_pred = first_model_predictions)\n",
        "first_model_evs = explained_variance_score(y_true = prices_test, y_pred = first_model_predictions)\n",
        "\n",
        "print(f'Value of Root Mean Squared Error of First Model: {first_model_rmse}')\n",
        "print(f'Value of R-Squared of First Model: {first_model_r2}')\n",
        "print(f'Value of Explained Variance Score of First Model: {first_model_evs}')"
      ],
      "metadata": {
        "colab": {
          "base_uri": "https://localhost:8080/"
        },
        "id": "XN0bHkYcD0EI",
        "outputId": "392552f8-d7a8-41cb-f1a6-88161a9eb0c5"
      },
      "execution_count": 63,
      "outputs": [
        {
          "output_type": "stream",
          "name": "stdout",
          "text": [
            "Value of Root Mean Squared Error of First Model: 2701.240058543255\n",
            "Value of R-Squared of First Model: 0.946473767398793\n",
            "Value of Explained Variance Score of First Model: 0.9465291195820003\n"
          ]
        }
      ]
    },
    {
      "cell_type": "markdown",
      "source": [
        "Let us now consider a **second model** neural network.\n",
        "\n"
      ],
      "metadata": {
        "id": "WUx9QoO7GnQY"
      }
    },
    {
      "cell_type": "code",
      "source": [],
      "metadata": {
        "id": "kxYkcLqyIArP"
      },
      "execution_count": null,
      "outputs": []
    }
  ],
  "metadata": {
    "colab": {
      "provenance": []
    },
    "kernelspec": {
      "display_name": "Python 3",
      "name": "python3"
    },
    "language_info": {
      "name": "python"
    }
  },
  "nbformat": 4,
  "nbformat_minor": 0
}